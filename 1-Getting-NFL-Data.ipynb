{
 "cells": [
  {
   "cell_type": "markdown",
   "metadata": {},
   "source": [
    "# // Getting NFL Data\n",
    "___\n",
    "The first step in getting this project underway is going to be getting **massive** amounts of NFL data from the web. I will be working in this notebook to \"show my work\" and for others to learn how to if they're curious. Ultimately, I'll also turn it into a regular `.py` Python script that you can run if you're so inclined."
   ]
  },
  {
   "cell_type": "markdown",
   "metadata": {},
   "source": [
    "For that, we're going to rely on the `requests` and `BeautifulSoup` libraries to glean information from:\n",
    "\n",
    "- [FantasyPros](https://www.fantasypros.com/)\n",
    "- [Pro Football Reference](https://www.pro-football-reference.com/)\n",
    "- [FFToday](http://www.fftoday.com/stats/)\n",
    "- [The Football Database](https://www.footballdb.com/fantasy-football/index.html)\n",
    "\n",
    "**Editor's Note:** After researching several for quite some time and attempting to use many of them, I will be going with **FantasyPros** for reasons outlined below."
   ]
  },
  {
   "cell_type": "code",
   "execution_count": 11,
   "metadata": {},
   "outputs": [],
   "source": [
    "# Importing our necessary libraries\n",
    "import requests\n",
    "import matplotlib.pyplot as plt\n",
    "import seaborn as sns\n",
    "import pandas as pd\n",
    "import requests\n",
    "import re\n",
    "\n",
    "from bs4 import BeautifulSoup\n",
    "from selenium import webdriver\n",
    "from time import sleep\n",
    "%matplotlib inline"
   ]
  },
  {
   "cell_type": "markdown",
   "metadata": {},
   "source": [
    "## FantasyPros\n",
    "I'm choosing to go with this FantasyPros for the following reasons:\n",
    "- You don't have to register to access the data\n",
    "- Separately, I am currently a user and like their site overall\n",
    "- Has available .5 PPR scoring data (FanDuel does .5 PPR so DFS appeal, and it will be most applicable for most leagues)\n",
    "- The Football Database seemed like it was missing quite a few players from each week\n",
    "- FFToday scoring was inconsistent in many places for .5 PPR scoring\n",
    "\n",
    "#### Following the FanDuel vein, since Daily Fantasy Sports (DFS) is where the biggest value is going to be coming from, I will be scraping data for the following positions and referring to them from here on out by the name in parentheses:\n",
    "1. Quarterback (QB)\n",
    "2. Running Back (RB)\n",
    "3. Wide Receiver (WR)\n",
    "4. Tight End (TE)\n",
    "5. Defense / Special Teams (DST)\n",
    "\n",
    "\n",
    "> - For a more detailed breakdown on positional scoring, please reference FanDuel's scoring and rules reference [here](https://www.fanduel.com/rules).\n",
    "- For a quick reference on what each column means, check out ESPN's stat reference [here](http://www.espn.com/nfl/news/story?id=2128923)."
   ]
  },
  {
   "cell_type": "markdown",
   "metadata": {},
   "source": [
    "### Scraping for our QBs"
   ]
  },
  {
   "cell_type": "markdown",
   "metadata": {},
   "source": [
    "1. Let's make some empty lists to throw all of our data into:"
   ]
  },
  {
   "cell_type": "code",
   "execution_count": 2,
   "metadata": {},
   "outputs": [],
   "source": [
    "player = []\n",
    "pass_comp = []\n",
    "pass_att = []\n",
    "pass_pct = []\n",
    "pass_yds = []\n",
    "yds_per_att = []\n",
    "pass_TD = []\n",
    "pass_INT = []\n",
    "sacks_taken = []\n",
    "rush_att = []\n",
    "rush_yds = []\n",
    "rush_TD = []\n",
    "fumbles_lost = []\n",
    "active = []\n",
    "fpoints = []\n",
    "own_pct = []"
   ]
  },
  {
   "cell_type": "code",
   "execution_count": 3,
   "metadata": {},
   "outputs": [],
   "source": [
    "# Make sure to incoporate this into the scrape!\n",
    "week = []"
   ]
  },
  {
   "cell_type": "markdown",
   "metadata": {},
   "source": [
    "2. And a list of those lists to make `dataframe` creation nice and easy:"
   ]
  },
  {
   "cell_type": "code",
   "execution_count": 4,
   "metadata": {},
   "outputs": [],
   "source": [
    "qb_stats_lists = [player, pass_comp, pass_att, pass_pct, pass_yds, yds_per_att, pass_TD, pass_INT, \n",
    "                    sacks_taken, rush_att, rush_yds, rush_TD, fumbles_lost, active, fpoints, own_pct]"
   ]
  },
  {
   "cell_type": "markdown",
   "metadata": {},
   "source": [
    "3. Doing the actual scrape by going through each week of the season (via each URL iteration), grabbing the right `table`, iterating through each `row` and then `cell`, and putting that data into the appropriate `lists`."
   ]
  },
  {
   "cell_type": "code",
   "execution_count": 5,
   "metadata": {},
   "outputs": [],
   "source": [
    "for week_number in range(1,6):\n",
    "\n",
    "    res = requests.get('https://www.fantasypros.com/nfl/stats/qb.php?week={}&scoring=HALF&range=week'.format(week_number))\n",
    "    soup = BeautifulSoup(res.content, 'lxml')\n",
    "\n",
    "    for row in soup.find('div', {'class':'mobile-table'}).find('tbody').find_all('tr'):\n",
    "        cells = row.find_all('td')\n",
    "        for index, selection in enumerate(qb_stats_lists):\n",
    "            selection.append(cells[index].text.lstrip().strip())\n",
    "            # I want \"week\" to become a unique identifier to bring in opponents\n",
    "        week.append(week_number)"
   ]
  },
  {
   "cell_type": "markdown",
   "metadata": {},
   "source": [
    "4. Let's make an empty `dataframe` and then fill it using our list of lists:"
   ]
  },
  {
   "cell_type": "code",
   "execution_count": 6,
   "metadata": {},
   "outputs": [
    {
     "data": {
      "text/html": [
       "<div>\n",
       "<style scoped>\n",
       "    .dataframe tbody tr th:only-of-type {\n",
       "        vertical-align: middle;\n",
       "    }\n",
       "\n",
       "    .dataframe tbody tr th {\n",
       "        vertical-align: top;\n",
       "    }\n",
       "\n",
       "    .dataframe thead th {\n",
       "        text-align: right;\n",
       "    }\n",
       "</style>\n",
       "<table border=\"1\" class=\"dataframe\">\n",
       "  <thead>\n",
       "    <tr style=\"text-align: right;\">\n",
       "      <th></th>\n",
       "      <th>player</th>\n",
       "      <th>pass_comp</th>\n",
       "      <th>pass_att</th>\n",
       "      <th>pass_pct</th>\n",
       "      <th>pass_yds</th>\n",
       "      <th>yds_per_att</th>\n",
       "      <th>pass_TD</th>\n",
       "      <th>pass_INT</th>\n",
       "      <th>sacks_taken</th>\n",
       "      <th>rush_att</th>\n",
       "      <th>rush_yds</th>\n",
       "      <th>rush_TD</th>\n",
       "      <th>fumbles_lost</th>\n",
       "      <th>active</th>\n",
       "      <th>fpoints</th>\n",
       "      <th>own_pct</th>\n",
       "    </tr>\n",
       "  </thead>\n",
       "  <tbody>\n",
       "  </tbody>\n",
       "</table>\n",
       "</div>"
      ],
      "text/plain": [
       "Empty DataFrame\n",
       "Columns: [player, pass_comp, pass_att, pass_pct, pass_yds, yds_per_att, pass_TD, pass_INT, sacks_taken, rush_att, rush_yds, rush_TD, fumbles_lost, active, fpoints, own_pct]\n",
       "Index: []"
      ]
     },
     "execution_count": 6,
     "metadata": {},
     "output_type": "execute_result"
    }
   ],
   "source": [
    "qbdf = pd.DataFrame(columns= ['player', 'pass_comp', 'pass_att', 'pass_pct',\n",
    "                              'pass_yds', 'yds_per_att', 'pass_TD', 'pass_INT', \n",
    "                              'sacks_taken', 'rush_att', 'rush_yds', 'rush_TD', \n",
    "                              'fumbles_lost', 'active', 'fpoints', 'own_pct'])\n",
    "qbdf"
   ]
  },
  {
   "cell_type": "code",
   "execution_count": 7,
   "metadata": {},
   "outputs": [],
   "source": [
    "for index, column in enumerate(qbdf.columns):\n",
    "    qbdf[column] = qb_stats_lists[index]"
   ]
  },
  {
   "cell_type": "markdown",
   "metadata": {},
   "source": [
    "5. Let's add on our `week` information and also separate a `team` column from our `player` column (to later be used to bring in opponent data)."
   ]
  },
  {
   "cell_type": "code",
   "execution_count": 9,
   "metadata": {},
   "outputs": [],
   "source": [
    "qbdf['week'] = week"
   ]
  },
  {
   "cell_type": "code",
   "execution_count": 10,
   "metadata": {},
   "outputs": [
    {
     "data": {
      "text/html": [
       "<div>\n",
       "<style scoped>\n",
       "    .dataframe tbody tr th:only-of-type {\n",
       "        vertical-align: middle;\n",
       "    }\n",
       "\n",
       "    .dataframe tbody tr th {\n",
       "        vertical-align: top;\n",
       "    }\n",
       "\n",
       "    .dataframe thead th {\n",
       "        text-align: right;\n",
       "    }\n",
       "</style>\n",
       "<table border=\"1\" class=\"dataframe\">\n",
       "  <thead>\n",
       "    <tr style=\"text-align: right;\">\n",
       "      <th></th>\n",
       "      <th>player</th>\n",
       "      <th>pass_comp</th>\n",
       "      <th>pass_att</th>\n",
       "      <th>pass_pct</th>\n",
       "      <th>pass_yds</th>\n",
       "      <th>yds_per_att</th>\n",
       "      <th>pass_TD</th>\n",
       "      <th>pass_INT</th>\n",
       "      <th>sacks_taken</th>\n",
       "      <th>rush_att</th>\n",
       "      <th>rush_yds</th>\n",
       "      <th>rush_TD</th>\n",
       "      <th>fumbles_lost</th>\n",
       "      <th>active</th>\n",
       "      <th>fpoints</th>\n",
       "      <th>own_pct</th>\n",
       "      <th>week</th>\n",
       "    </tr>\n",
       "  </thead>\n",
       "  <tbody>\n",
       "    <tr>\n",
       "      <th>0</th>\n",
       "      <td>Aaron Rodgers (GB)</td>\n",
       "      <td>20</td>\n",
       "      <td>30</td>\n",
       "      <td>66.7</td>\n",
       "      <td>286</td>\n",
       "      <td>9.5</td>\n",
       "      <td>3</td>\n",
       "      <td>0</td>\n",
       "      <td>2</td>\n",
       "      <td>1</td>\n",
       "      <td>15</td>\n",
       "      <td>0</td>\n",
       "      <td>0</td>\n",
       "      <td>1</td>\n",
       "      <td>24.9</td>\n",
       "      <td>24.9</td>\n",
       "      <td>1</td>\n",
       "    </tr>\n",
       "    <tr>\n",
       "      <th>1</th>\n",
       "      <td>Alex Smith (WAS)</td>\n",
       "      <td>21</td>\n",
       "      <td>30</td>\n",
       "      <td>70.0</td>\n",
       "      <td>255</td>\n",
       "      <td>8.5</td>\n",
       "      <td>2</td>\n",
       "      <td>0</td>\n",
       "      <td>3</td>\n",
       "      <td>8</td>\n",
       "      <td>14</td>\n",
       "      <td>0</td>\n",
       "      <td>0</td>\n",
       "      <td>1</td>\n",
       "      <td>19.6</td>\n",
       "      <td>19.6</td>\n",
       "      <td>1</td>\n",
       "    </tr>\n",
       "    <tr>\n",
       "      <th>2</th>\n",
       "      <td>Ben Roethlisberger (PIT)</td>\n",
       "      <td>23</td>\n",
       "      <td>41</td>\n",
       "      <td>56.1</td>\n",
       "      <td>335</td>\n",
       "      <td>8.2</td>\n",
       "      <td>1</td>\n",
       "      <td>3</td>\n",
       "      <td>4</td>\n",
       "      <td>3</td>\n",
       "      <td>16</td>\n",
       "      <td>0</td>\n",
       "      <td>2</td>\n",
       "      <td>1</td>\n",
       "      <td>9.0</td>\n",
       "      <td>9.0</td>\n",
       "      <td>1</td>\n",
       "    </tr>\n",
       "    <tr>\n",
       "      <th>3</th>\n",
       "      <td>Brett Ratliff (TEN)</td>\n",
       "      <td>0</td>\n",
       "      <td>0</td>\n",
       "      <td>0</td>\n",
       "      <td>0</td>\n",
       "      <td>0</td>\n",
       "      <td>0</td>\n",
       "      <td>0</td>\n",
       "      <td>0</td>\n",
       "      <td>0</td>\n",
       "      <td>0</td>\n",
       "      <td>0</td>\n",
       "      <td>0</td>\n",
       "      <td>0</td>\n",
       "      <td>0</td>\n",
       "      <td>0</td>\n",
       "      <td>1</td>\n",
       "    </tr>\n",
       "    <tr>\n",
       "      <th>4</th>\n",
       "      <td>Brian Brohm (BUF)</td>\n",
       "      <td>0</td>\n",
       "      <td>0</td>\n",
       "      <td>0</td>\n",
       "      <td>0</td>\n",
       "      <td>0</td>\n",
       "      <td>0</td>\n",
       "      <td>0</td>\n",
       "      <td>0</td>\n",
       "      <td>0</td>\n",
       "      <td>0</td>\n",
       "      <td>0</td>\n",
       "      <td>0</td>\n",
       "      <td>0</td>\n",
       "      <td>0</td>\n",
       "      <td>0</td>\n",
       "      <td>1</td>\n",
       "    </tr>\n",
       "  </tbody>\n",
       "</table>\n",
       "</div>"
      ],
      "text/plain": [
       "                     player pass_comp pass_att pass_pct pass_yds yds_per_att  \\\n",
       "0        Aaron Rodgers (GB)        20       30     66.7      286         9.5   \n",
       "1          Alex Smith (WAS)        21       30     70.0      255         8.5   \n",
       "2  Ben Roethlisberger (PIT)        23       41     56.1      335         8.2   \n",
       "3       Brett Ratliff (TEN)         0        0        0        0           0   \n",
       "4         Brian Brohm (BUF)         0        0        0        0           0   \n",
       "\n",
       "  pass_TD pass_INT sacks_taken rush_att rush_yds rush_TD fumbles_lost active  \\\n",
       "0       3        0           2        1       15       0            0      1   \n",
       "1       2        0           3        8       14       0            0      1   \n",
       "2       1        3           4        3       16       0            2      1   \n",
       "3       0        0           0        0        0       0            0      0   \n",
       "4       0        0           0        0        0       0            0      0   \n",
       "\n",
       "  fpoints own_pct  week  \n",
       "0    24.9    24.9     1  \n",
       "1    19.6    19.6     1  \n",
       "2     9.0     9.0     1  \n",
       "3       0       0     1  \n",
       "4       0       0     1  "
      ]
     },
     "execution_count": 10,
     "metadata": {},
     "output_type": "execute_result"
    }
   ],
   "source": [
    "qbdf.head()"
   ]
  },
  {
   "cell_type": "code",
   "execution_count": 20,
   "metadata": {},
   "outputs": [],
   "source": [
    "team = []\n",
    "for individual in qbdf['player']:\n",
    "    team.append(re.findall('\\(([^\\)]+)\\)', individual)[0])\n",
    "qbdf['team'] = team"
   ]
  },
  {
   "cell_type": "markdown",
   "metadata": {},
   "source": [
    "6. Since most if not all of these values were actually read in as `strings`, we'll need to convert them to numeric columns (with the exceptions of `player`, `team`, and `week`."
   ]
  },
  {
   "cell_type": "code",
   "execution_count": null,
   "metadata": {},
   "outputs": [],
   "source": [
    "for x in [col for col in qbdf.columns if col not in ['player', 'team' 'week']]:\n",
    "    qbdf[x] = qbdf[x].a"
   ]
  },
  {
   "cell_type": "code",
   "execution_count": null,
   "metadata": {},
   "outputs": [],
   "source": []
  },
  {
   "cell_type": "code",
   "execution_count": null,
   "metadata": {},
   "outputs": [],
   "source": []
  },
  {
   "cell_type": "code",
   "execution_count": null,
   "metadata": {},
   "outputs": [],
   "source": []
  },
  {
   "cell_type": "code",
   "execution_count": null,
   "metadata": {},
   "outputs": [],
   "source": []
  },
  {
   "cell_type": "code",
   "execution_count": null,
   "metadata": {},
   "outputs": [],
   "source": []
  },
  {
   "cell_type": "code",
   "execution_count": null,
   "metadata": {},
   "outputs": [],
   "source": []
  },
  {
   "cell_type": "markdown",
   "metadata": {},
   "source": [
    "### Setting up the scraping for the QB iteration of our scrape:"
   ]
  },
  {
   "cell_type": "markdown",
   "metadata": {},
   "source": [
    "1. Making an empty `dataframe` to throw our scrape into:"
   ]
  },
  {
   "cell_type": "code",
   "execution_count": 2,
   "metadata": {},
   "outputs": [
    {
     "data": {
      "text/html": [
       "<div>\n",
       "<style scoped>\n",
       "    .dataframe tbody tr th:only-of-type {\n",
       "        vertical-align: middle;\n",
       "    }\n",
       "\n",
       "    .dataframe tbody tr th {\n",
       "        vertical-align: top;\n",
       "    }\n",
       "\n",
       "    .dataframe thead th {\n",
       "        text-align: right;\n",
       "    }\n",
       "</style>\n",
       "<table border=\"1\" class=\"dataframe\">\n",
       "  <thead>\n",
       "    <tr style=\"text-align: right;\">\n",
       "      <th></th>\n",
       "      <th>player</th>\n",
       "      <th>team</th>\n",
       "      <th>week</th>\n",
       "      <th>pass_comp</th>\n",
       "      <th>pass_att</th>\n",
       "      <th>pass_yds</th>\n",
       "      <th>pass_TD</th>\n",
       "      <th>pass_INT</th>\n",
       "      <th>rush_att</th>\n",
       "      <th>rush_yds</th>\n",
       "      <th>rush_TD</th>\n",
       "      <th>fpoints</th>\n",
       "    </tr>\n",
       "  </thead>\n",
       "  <tbody>\n",
       "  </tbody>\n",
       "</table>\n",
       "</div>"
      ],
      "text/plain": [
       "Empty DataFrame\n",
       "Columns: [player, team, week, pass_comp, pass_att, pass_yds, pass_TD, pass_INT, rush_att, rush_yds, rush_TD, fpoints]\n",
       "Index: []"
      ]
     },
     "execution_count": 2,
     "metadata": {},
     "output_type": "execute_result"
    }
   ],
   "source": [
    "qbs_df = pd.DataFrame(columns= ['player', 'team', 'week', 'pass_comp',\n",
    "                                'pass_att', 'pass_pct', 'pass_yds', 'yds_per_att', 'pass_TD', 'pass_INT', 'sacks_taken',\n",
    "                                'rush_att', 'rush_yds', 'rush_TD', 'fumbles_lost', 'active', 'fpoints'])\n",
    "qbs_df"
   ]
  },
  {
   "cell_type": "markdown",
   "metadata": {},
   "source": [
    "2. Making some empty `lists` to fill with stats:"
   ]
  },
  {
   "cell_type": "code",
   "execution_count": 70,
   "metadata": {},
   "outputs": [],
   "source": [
    "player = []\n",
    "team = []\n",
    "week = []\n",
    "pass_comp = []\n",
    "pass_att = []\n",
    "pass_yds = []\n",
    "pass_TD = []\n",
    "pass_INT = []\n",
    "rush_att = []\n",
    "rush_yds = []\n",
    "rush_TD = []\n",
    "fpoints = []"
   ]
  },
  {
   "cell_type": "code",
   "execution_count": 71,
   "metadata": {},
   "outputs": [],
   "source": [
    "qb_columns_lists = [player, team, week, pass_comp, pass_att, pass_yds, pass_TD, pass_INT, \n",
    "                    rush_att, rush_yds, rush_TD, fpoints]"
   ]
  },
  {
   "cell_type": "markdown",
   "metadata": {},
   "source": [
    "3. Doing the actual scrape by going through each week of the season (via each URL iteration), grabbing the right `table`, iterating through each `row` and then `cell`, and putting that data into the appropriate `lists`."
   ]
  },
  {
   "cell_type": "code",
   "execution_count": 72,
   "metadata": {},
   "outputs": [],
   "source": [
    "res = requests.get('http://www.fftoday.com/stats/playerstats.php?Season=2018&GameWeek=1&PosID=10&LeagueID=193033')\n",
    "soup = BeautifulSoup(res.content, 'lxml')\n",
    "\n",
    "\n",
    "# for number in range(1,6):\n",
    "res = requests.get('http://www.fftoday.com/stats/playerstats.php?Season=2018&GameWeek={}&PosID=10&LeagueID=193033'.format(number))\n",
    "soup = BeautifulSoup(res.content, 'lxml')\n",
    "for row in soup.find('table', {'cellpadding':2}).find_all('tr')[2:]:\n",
    "    cells = row.find_all('td')\n",
    "    for index, selection in enumerate(qb_columns_lists):\n",
    "        selection.append(cells[index].text.strip())\n",
    "        # The \"week\" column from our website is actually always 1, and I'm not sure what it does\n",
    "        # I want \"week\" to become a unique identifier to bring in opponents\n",
    "        week.pop()\n",
    "        week.append(number)"
   ]
  },
  {
   "cell_type": "code",
   "execution_count": 73,
   "metadata": {},
   "outputs": [
    {
     "data": {
      "text/plain": [
       "['31.5',\n",
       " '30.7',\n",
       " '30.6',\n",
       " '28.7',\n",
       " '26.6',\n",
       " '26.6',\n",
       " '23.6',\n",
       " '23.1',\n",
       " '23.0',\n",
       " '23.0',\n",
       " '21.4',\n",
       " '21.2',\n",
       " '20.4',\n",
       " '20.4',\n",
       " '20.0',\n",
       " '19.9',\n",
       " '19.8',\n",
       " '18.3',\n",
       " '17.7',\n",
       " '16.4',\n",
       " '16.1',\n",
       " '15.7',\n",
       " '15.2',\n",
       " '15.2',\n",
       " '14.9',\n",
       " '13.2',\n",
       " '13.1',\n",
       " '11.2',\n",
       " '10.5',\n",
       " '8.3',\n",
       " '6.2',\n",
       " '1.0',\n",
       " '0.8',\n",
       " '-0.3',\n",
       " '-0.3']"
      ]
     },
     "execution_count": 73,
     "metadata": {},
     "output_type": "execute_result"
    }
   ],
   "source": [
    "fpoints"
   ]
  },
  {
   "cell_type": "markdown",
   "metadata": {},
   "source": [
    "4. Cleaning up a little kerfuffle in the `player` column."
   ]
  },
  {
   "cell_type": "code",
   "execution_count": 6,
   "metadata": {},
   "outputs": [],
   "source": [
    "player = [individual[3:].lstrip() for individual in player]\n",
    "qb_columns_lists[0] = player"
   ]
  },
  {
   "cell_type": "markdown",
   "metadata": {},
   "source": [
    "5. Filling our `dataframe` with all of the appropriate `lists`."
   ]
  },
  {
   "cell_type": "code",
   "execution_count": 7,
   "metadata": {},
   "outputs": [],
   "source": [
    "for index, column in enumerate(qbs_df.columns):\n",
    "    qbs_df[str(column)] = qb_columns_lists[index]"
   ]
  },
  {
   "cell_type": "code",
   "execution_count": 8,
   "metadata": {},
   "outputs": [
    {
     "data": {
      "text/html": [
       "<div>\n",
       "<style scoped>\n",
       "    .dataframe tbody tr th:only-of-type {\n",
       "        vertical-align: middle;\n",
       "    }\n",
       "\n",
       "    .dataframe tbody tr th {\n",
       "        vertical-align: top;\n",
       "    }\n",
       "\n",
       "    .dataframe thead th {\n",
       "        text-align: right;\n",
       "    }\n",
       "</style>\n",
       "<table border=\"1\" class=\"dataframe\">\n",
       "  <thead>\n",
       "    <tr style=\"text-align: right;\">\n",
       "      <th></th>\n",
       "      <th>player</th>\n",
       "      <th>team</th>\n",
       "      <th>week</th>\n",
       "      <th>pass_comp</th>\n",
       "      <th>pass_att</th>\n",
       "      <th>pass_yds</th>\n",
       "      <th>pass_TD</th>\n",
       "      <th>pass_INT</th>\n",
       "      <th>rush_att</th>\n",
       "      <th>rush_yds</th>\n",
       "      <th>rush_TD</th>\n",
       "      <th>fpoints</th>\n",
       "    </tr>\n",
       "  </thead>\n",
       "  <tbody>\n",
       "    <tr>\n",
       "      <th>0</th>\n",
       "      <td>Ryan Fitzpatrick</td>\n",
       "      <td>TB</td>\n",
       "      <td>1</td>\n",
       "      <td>21</td>\n",
       "      <td>28</td>\n",
       "      <td>417</td>\n",
       "      <td>4</td>\n",
       "      <td>0</td>\n",
       "      <td>12</td>\n",
       "      <td>36</td>\n",
       "      <td>1</td>\n",
       "      <td>42.3</td>\n",
       "    </tr>\n",
       "    <tr>\n",
       "      <th>1</th>\n",
       "      <td>Drew Brees</td>\n",
       "      <td>NO</td>\n",
       "      <td>1</td>\n",
       "      <td>37</td>\n",
       "      <td>45</td>\n",
       "      <td>439</td>\n",
       "      <td>3</td>\n",
       "      <td>0</td>\n",
       "      <td>0</td>\n",
       "      <td>0</td>\n",
       "      <td>0</td>\n",
       "      <td>29.6</td>\n",
       "    </tr>\n",
       "    <tr>\n",
       "      <th>2</th>\n",
       "      <td>Philip Rivers</td>\n",
       "      <td>LAC</td>\n",
       "      <td>1</td>\n",
       "      <td>34</td>\n",
       "      <td>51</td>\n",
       "      <td>424</td>\n",
       "      <td>3</td>\n",
       "      <td>1</td>\n",
       "      <td>0</td>\n",
       "      <td>0</td>\n",
       "      <td>0</td>\n",
       "      <td>29.0</td>\n",
       "    </tr>\n",
       "    <tr>\n",
       "      <th>3</th>\n",
       "      <td>Patrick Mahomes</td>\n",
       "      <td>KC</td>\n",
       "      <td>1</td>\n",
       "      <td>15</td>\n",
       "      <td>27</td>\n",
       "      <td>256</td>\n",
       "      <td>4</td>\n",
       "      <td>0</td>\n",
       "      <td>5</td>\n",
       "      <td>21</td>\n",
       "      <td>0</td>\n",
       "      <td>28.3</td>\n",
       "    </tr>\n",
       "    <tr>\n",
       "      <th>4</th>\n",
       "      <td>Tyrod Taylor</td>\n",
       "      <td>CLE</td>\n",
       "      <td>1</td>\n",
       "      <td>15</td>\n",
       "      <td>40</td>\n",
       "      <td>197</td>\n",
       "      <td>1</td>\n",
       "      <td>1</td>\n",
       "      <td>8</td>\n",
       "      <td>77</td>\n",
       "      <td>1</td>\n",
       "      <td>25.6</td>\n",
       "    </tr>\n",
       "  </tbody>\n",
       "</table>\n",
       "</div>"
      ],
      "text/plain": [
       "             player team  week pass_comp pass_att pass_yds pass_TD pass_INT  \\\n",
       "0  Ryan Fitzpatrick   TB     1        21       28      417       4        0   \n",
       "1        Drew Brees   NO     1        37       45      439       3        0   \n",
       "2     Philip Rivers  LAC     1        34       51      424       3        1   \n",
       "3   Patrick Mahomes   KC     1        15       27      256       4        0   \n",
       "4      Tyrod Taylor  CLE     1        15       40      197       1        1   \n",
       "\n",
       "  rush_att rush_yds rush_TD fpoints  \n",
       "0       12       36       1    42.3  \n",
       "1        0        0       0    29.6  \n",
       "2        0        0       0    29.0  \n",
       "3        5       21       0    28.3  \n",
       "4        8       77       1    25.6  "
      ]
     },
     "execution_count": 8,
     "metadata": {},
     "output_type": "execute_result"
    }
   ],
   "source": [
    "qbs_df.head()"
   ]
  },
  {
   "cell_type": "markdown",
   "metadata": {},
   "source": [
    "- Spot checking with a single player:"
   ]
  },
  {
   "cell_type": "code",
   "execution_count": 9,
   "metadata": {},
   "outputs": [
    {
     "data": {
      "text/html": [
       "<div>\n",
       "<style scoped>\n",
       "    .dataframe tbody tr th:only-of-type {\n",
       "        vertical-align: middle;\n",
       "    }\n",
       "\n",
       "    .dataframe tbody tr th {\n",
       "        vertical-align: top;\n",
       "    }\n",
       "\n",
       "    .dataframe thead th {\n",
       "        text-align: right;\n",
       "    }\n",
       "</style>\n",
       "<table border=\"1\" class=\"dataframe\">\n",
       "  <thead>\n",
       "    <tr style=\"text-align: right;\">\n",
       "      <th></th>\n",
       "      <th>player</th>\n",
       "      <th>team</th>\n",
       "      <th>week</th>\n",
       "      <th>pass_comp</th>\n",
       "      <th>pass_att</th>\n",
       "      <th>pass_yds</th>\n",
       "      <th>pass_TD</th>\n",
       "      <th>pass_INT</th>\n",
       "      <th>rush_att</th>\n",
       "      <th>rush_yds</th>\n",
       "      <th>rush_TD</th>\n",
       "      <th>fpoints</th>\n",
       "    </tr>\n",
       "  </thead>\n",
       "  <tbody>\n",
       "    <tr>\n",
       "      <th>8</th>\n",
       "      <td>Tom Brady</td>\n",
       "      <td>NE</td>\n",
       "      <td>1</td>\n",
       "      <td>26</td>\n",
       "      <td>39</td>\n",
       "      <td>277</td>\n",
       "      <td>3</td>\n",
       "      <td>1</td>\n",
       "      <td>1</td>\n",
       "      <td>2</td>\n",
       "      <td>0</td>\n",
       "      <td>23.3</td>\n",
       "    </tr>\n",
       "    <tr>\n",
       "      <th>52</th>\n",
       "      <td>Tom Brady</td>\n",
       "      <td>NE</td>\n",
       "      <td>2</td>\n",
       "      <td>24</td>\n",
       "      <td>35</td>\n",
       "      <td>234</td>\n",
       "      <td>2</td>\n",
       "      <td>0</td>\n",
       "      <td>3</td>\n",
       "      <td>10</td>\n",
       "      <td>0</td>\n",
       "      <td>18.4</td>\n",
       "    </tr>\n",
       "    <tr>\n",
       "      <th>98</th>\n",
       "      <td>Tom Brady</td>\n",
       "      <td>NE</td>\n",
       "      <td>3</td>\n",
       "      <td>14</td>\n",
       "      <td>26</td>\n",
       "      <td>133</td>\n",
       "      <td>1</td>\n",
       "      <td>1</td>\n",
       "      <td>1</td>\n",
       "      <td>2</td>\n",
       "      <td>0</td>\n",
       "      <td>9.5</td>\n",
       "    </tr>\n",
       "    <tr>\n",
       "      <th>119</th>\n",
       "      <td>Tom Brady</td>\n",
       "      <td>NE</td>\n",
       "      <td>4</td>\n",
       "      <td>23</td>\n",
       "      <td>35</td>\n",
       "      <td>274</td>\n",
       "      <td>3</td>\n",
       "      <td>2</td>\n",
       "      <td>0</td>\n",
       "      <td>0</td>\n",
       "      <td>0</td>\n",
       "      <td>23.0</td>\n",
       "    </tr>\n",
       "    <tr>\n",
       "      <th>145</th>\n",
       "      <td>Tom Brady</td>\n",
       "      <td>NE</td>\n",
       "      <td>5</td>\n",
       "      <td>34</td>\n",
       "      <td>44</td>\n",
       "      <td>341</td>\n",
       "      <td>3</td>\n",
       "      <td>2</td>\n",
       "      <td>3</td>\n",
       "      <td>-1</td>\n",
       "      <td>1</td>\n",
       "      <td>31.5</td>\n",
       "    </tr>\n",
       "  </tbody>\n",
       "</table>\n",
       "</div>"
      ],
      "text/plain": [
       "        player team  week pass_comp pass_att pass_yds pass_TD pass_INT  \\\n",
       "8    Tom Brady   NE     1        26       39      277       3        1   \n",
       "52   Tom Brady   NE     2        24       35      234       2        0   \n",
       "98   Tom Brady   NE     3        14       26      133       1        1   \n",
       "119  Tom Brady   NE     4        23       35      274       3        2   \n",
       "145  Tom Brady   NE     5        34       44      341       3        2   \n",
       "\n",
       "    rush_att rush_yds rush_TD fpoints  \n",
       "8          1        2       0    23.3  \n",
       "52         3       10       0    18.4  \n",
       "98         1        2       0     9.5  \n",
       "119        0        0       0    23.0  \n",
       "145        3       -1       1    31.5  "
      ]
     },
     "execution_count": 9,
     "metadata": {},
     "output_type": "execute_result"
    }
   ],
   "source": [
    "qbs_df[qbs_df['player'] == 'Tom Brady']"
   ]
  },
  {
   "cell_type": "markdown",
   "metadata": {},
   "source": [
    "6. Alright! Looking like what we've got so far is working! Except..."
   ]
  },
  {
   "cell_type": "code",
   "execution_count": 10,
   "metadata": {},
   "outputs": [
    {
     "data": {
      "text/plain": [
       "player       object\n",
       "team         object\n",
       "week          int64\n",
       "pass_comp    object\n",
       "pass_att     object\n",
       "pass_yds     object\n",
       "pass_TD      object\n",
       "pass_INT     object\n",
       "rush_att     object\n",
       "rush_yds     object\n",
       "rush_TD      object\n",
       "fpoints      object\n",
       "dtype: object"
      ]
     },
     "execution_count": 10,
     "metadata": {},
     "output_type": "execute_result"
    }
   ],
   "source": [
    "qbs_df.dtypes"
   ]
  },
  {
   "cell_type": "code",
   "execution_count": 11,
   "metadata": {},
   "outputs": [],
   "source": [
    "for col in qbs_df.columns[2:]:\n",
    "    qbs_df[col] = qbs_df[col].astype(float)"
   ]
  },
  {
   "cell_type": "code",
   "execution_count": 12,
   "metadata": {},
   "outputs": [
    {
     "data": {
      "text/plain": [
       "player        object\n",
       "team          object\n",
       "week         float64\n",
       "pass_comp    float64\n",
       "pass_att     float64\n",
       "pass_yds     float64\n",
       "pass_TD      float64\n",
       "pass_INT     float64\n",
       "rush_att     float64\n",
       "rush_yds     float64\n",
       "rush_TD      float64\n",
       "fpoints      float64\n",
       "dtype: object"
      ]
     },
     "execution_count": 12,
     "metadata": {},
     "output_type": "execute_result"
    }
   ],
   "source": [
    "qbs_df.dtypes"
   ]
  },
  {
   "cell_type": "code",
   "execution_count": 13,
   "metadata": {},
   "outputs": [],
   "source": [
    "# Saving our dataframe to a 'csv' file in the current directory\n",
    "qbs_df.to_csv(\"quarterback_stats.csv\")"
   ]
  },
  {
   "cell_type": "markdown",
   "metadata": {},
   "source": [
    "### Running Backs:"
   ]
  },
  {
   "cell_type": "code",
   "execution_count": null,
   "metadata": {},
   "outputs": [],
   "source": []
  },
  {
   "cell_type": "code",
   "execution_count": null,
   "metadata": {},
   "outputs": [],
   "source": []
  }
 ],
 "metadata": {
  "kernelspec": {
   "display_name": "Python 3",
   "language": "python",
   "name": "python3"
  },
  "language_info": {
   "codemirror_mode": {
    "name": "ipython",
    "version": 3
   },
   "file_extension": ".py",
   "mimetype": "text/x-python",
   "name": "python",
   "nbconvert_exporter": "python",
   "pygments_lexer": "ipython3",
   "version": "3.6.5"
  }
 },
 "nbformat": 4,
 "nbformat_minor": 2
}
