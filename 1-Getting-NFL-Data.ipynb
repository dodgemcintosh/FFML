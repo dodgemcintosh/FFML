{
 "cells": [
  {
   "cell_type": "markdown",
   "metadata": {},
   "source": [
    "# // Getting NFL Data\n",
    "___\n",
    "The first step in getting this project underway is going to be getting **massive** amounts of NFL data from the web. I will be working in this notebook to \"show my work\" and for others to learn how to if they're curious. Ultimately, I'll also turn it into a regular `.py` Python script that you can run if you're so inclined."
   ]
  },
  {
   "cell_type": "markdown",
   "metadata": {},
   "source": [
    "For that, we're going to rely on the `requests` and `BeautifulSoup` libraries to glean information from:\n",
    "\n",
    "- [FantasyPros](https://www.fantasypros.com/)\n",
    "- [Pro Football Reference](https://www.pro-football-reference.com/)\n",
    "- [FFToday](http://www.fftoday.com/stats/)\n",
    "- [The Football Database](https://www.footballdb.com/fantasy-football/index.html)\n",
    "\n",
    "**Editor's Note:** After researching several for quite some time and attempting to use many of them, I will be going with **FantasyPros** for reasons outlined below."
   ]
  },
  {
   "cell_type": "code",
   "execution_count": 385,
   "metadata": {},
   "outputs": [],
   "source": [
    "# Importing our necessary libraries\n",
    "import requests\n",
    "import matplotlib.pyplot as plt\n",
    "import seaborn as sns\n",
    "import pandas as pd\n",
    "import requests\n",
    "import re\n",
    "\n",
    "from bs4 import BeautifulSoup\n",
    "from selenium import webdriver\n",
    "from time import sleep\n",
    "%matplotlib inline"
   ]
  },
  {
   "cell_type": "markdown",
   "metadata": {},
   "source": [
    "## FantasyPros\n",
    "I'm choosing to go with this FantasyPros for the following reasons:\n",
    "- You don't have to register to access the data\n",
    "- Separately, I am currently a user and like their site overall\n",
    "- Has available .5 PPR scoring data (FanDuel does .5 PPR so DFS appeal, and it will be most applicable for most leagues)\n",
    "- The Football Database seemed like it was missing quite a few players from each week\n",
    "- FFToday scoring was inconsistent in many places for .5 PPR scoring\n",
    "\n",
    "#### Following the FanDuel vein, since Daily Fantasy Sports (DFS) is where the biggest value is going to be coming from, I will be scraping data for the following positions and referring to them from here on out by the name in parentheses:\n",
    "1. Quarterback (QB)\n",
    "2. Running Back (RB)\n",
    "3. Wide Receiver (WR)\n",
    "4. Tight End (TE)\n",
    "5. Defense / Special Teams (DST)\n",
    "\n",
    "\n",
    "> - For a more detailed breakdown on positional scoring, please reference FanDuel's scoring and rules reference [here](https://www.fanduel.com/rules).\n",
    "- For a quick reference on what each column means, check out ESPN's stat reference [here](http://www.espn.com/nfl/news/story?id=2128923)."
   ]
  },
  {
   "cell_type": "markdown",
   "metadata": {},
   "source": [
    "### Scraping for our QBs"
   ]
  },
  {
   "cell_type": "markdown",
   "metadata": {},
   "source": [
    "1. Let's make some empty lists to throw all of our data into:"
   ]
  },
  {
   "cell_type": "code",
   "execution_count": 386,
   "metadata": {},
   "outputs": [],
   "source": [
    "player = []\n",
    "pass_comp = []\n",
    "pass_att = []\n",
    "pass_pct = []\n",
    "pass_yds = []\n",
    "yds_per_att = []\n",
    "pass_TD = []\n",
    "pass_INT = []\n",
    "sacks_taken = []\n",
    "rush_att = []\n",
    "rush_yds = []\n",
    "rush_TD = []\n",
    "fumbles_lost = []\n",
    "active = []\n",
    "fpoints = []\n",
    "fpoints_g = []\n",
    "own_pct = []"
   ]
  },
  {
   "cell_type": "code",
   "execution_count": 387,
   "metadata": {},
   "outputs": [],
   "source": [
    "# Make sure to incoporate this into the scrape!\n",
    "week = []\n",
    "year = []"
   ]
  },
  {
   "cell_type": "markdown",
   "metadata": {},
   "source": [
    "2. And a list of those lists to make `dataframe` creation nice and easy:"
   ]
  },
  {
   "cell_type": "code",
   "execution_count": 388,
   "metadata": {},
   "outputs": [],
   "source": [
    "qb_stats_lists = [player, pass_comp, pass_att, pass_pct, pass_yds, \n",
    "                  yds_per_att, pass_TD, pass_INT, sacks_taken, \n",
    "                  rush_att, rush_yds, rush_TD, fumbles_lost, \n",
    "                  active, fpoints, fpoints_g, own_pct]\n",
    "\n"
   ]
  },
  {
   "cell_type": "markdown",
   "metadata": {},
   "source": [
    "3. Doing the actual scrape by going through each week of the season (via each URL iteration), grabbing the right `table`, iterating through each `row` and then `cell`, and putting that data into the appropriate `lists`."
   ]
  },
  {
   "cell_type": "code",
   "execution_count": 389,
   "metadata": {},
   "outputs": [],
   "source": [
    "for week_number in range(1,6):\n",
    "\n",
    "    res = requests.get('https://www.fantasypros.com/nfl/stats/qb.php?week={}&scoring=HALF&range=week'.format(week_number))\n",
    "    soup = BeautifulSoup(res.content, 'lxml')\n",
    "\n",
    "    for row in soup.find('div', {'class':'mobile-table'}).find('tbody').find_all('tr'):\n",
    "        cells = row.find_all('td')\n",
    "        for index, selection in enumerate(qb_stats_lists):\n",
    "            selection.append(cells[index].text.lstrip().strip())\n",
    "        # I want \"week\" to become a unique identifier to bring in opponents\n",
    "        week.append(week_number)"
   ]
  },
  {
   "cell_type": "markdown",
   "metadata": {},
   "source": [
    "4. Let's make an empty `dataframe` and then fill it using our list of lists:"
   ]
  },
  {
   "cell_type": "code",
   "execution_count": 390,
   "metadata": {},
   "outputs": [
    {
     "data": {
      "text/html": [
       "<div>\n",
       "<style scoped>\n",
       "    .dataframe tbody tr th:only-of-type {\n",
       "        vertical-align: middle;\n",
       "    }\n",
       "\n",
       "    .dataframe tbody tr th {\n",
       "        vertical-align: top;\n",
       "    }\n",
       "\n",
       "    .dataframe thead th {\n",
       "        text-align: right;\n",
       "    }\n",
       "</style>\n",
       "<table border=\"1\" class=\"dataframe\">\n",
       "  <thead>\n",
       "    <tr style=\"text-align: right;\">\n",
       "      <th></th>\n",
       "      <th>player</th>\n",
       "      <th>pass_comp</th>\n",
       "      <th>pass_att</th>\n",
       "      <th>pass_pct</th>\n",
       "      <th>pass_yds</th>\n",
       "      <th>yds_per_att</th>\n",
       "      <th>pass_TD</th>\n",
       "      <th>pass_INT</th>\n",
       "      <th>sacks_taken</th>\n",
       "      <th>rush_att</th>\n",
       "      <th>rush_yds</th>\n",
       "      <th>rush_TD</th>\n",
       "      <th>fumbles_lost</th>\n",
       "      <th>active</th>\n",
       "      <th>fpoints</th>\n",
       "      <th>fpoints_g</th>\n",
       "      <th>own_pct</th>\n",
       "    </tr>\n",
       "  </thead>\n",
       "  <tbody>\n",
       "  </tbody>\n",
       "</table>\n",
       "</div>"
      ],
      "text/plain": [
       "Empty DataFrame\n",
       "Columns: [player, pass_comp, pass_att, pass_pct, pass_yds, yds_per_att, pass_TD, pass_INT, sacks_taken, rush_att, rush_yds, rush_TD, fumbles_lost, active, fpoints, fpoints_g, own_pct]\n",
       "Index: []"
      ]
     },
     "execution_count": 390,
     "metadata": {},
     "output_type": "execute_result"
    }
   ],
   "source": [
    "qbdf = pd.DataFrame(columns= ['player', 'pass_comp', 'pass_att', 'pass_pct',\n",
    "                              'pass_yds', 'yds_per_att', 'pass_TD', 'pass_INT', \n",
    "                              'sacks_taken', 'rush_att', 'rush_yds', 'rush_TD', \n",
    "                              'fumbles_lost', 'active', 'fpoints', 'fpoints_g', 'own_pct'])\n",
    "qbdf"
   ]
  },
  {
   "cell_type": "code",
   "execution_count": 391,
   "metadata": {},
   "outputs": [],
   "source": [
    "for index, column in enumerate(qbdf.columns):\n",
    "    qbdf[column] = qb_stats_lists[index]"
   ]
  },
  {
   "cell_type": "markdown",
   "metadata": {},
   "source": [
    "5. Let's add on our `week` and `year` information as well as a separate `team` column from our `player` column (to later be used to bring in opponent data)."
   ]
  },
  {
   "cell_type": "code",
   "execution_count": 392,
   "metadata": {},
   "outputs": [],
   "source": [
    "# Week\n",
    "qbdf['week'] = week\n",
    "qbdf['week'] = qbdf.week.astype(str)"
   ]
  },
  {
   "cell_type": "code",
   "execution_count": 393,
   "metadata": {},
   "outputs": [],
   "source": [
    "team = []\n",
    "for individual in qbdf['player']:\n",
    "    team.append(re.findall('\\(([^\\)]+)\\)', individual)[0])\n",
    "qbdf['team'] = team"
   ]
  },
  {
   "cell_type": "markdown",
   "metadata": {},
   "source": [
    "6. And let's just clean up that `player` name a bit too with another `regex`:"
   ]
  },
  {
   "cell_type": "code",
   "execution_count": 394,
   "metadata": {},
   "outputs": [],
   "source": [
    "qbdf['player'] = [ind[0] for ind in [re.findall('^.*?(?=\\s\\()', quarterback) for quarterback in qbdf['player']]]"
   ]
  },
  {
   "cell_type": "markdown",
   "metadata": {},
   "source": [
    "7. While we're at the cleanup, we're going to need to do some with the `own_pct`:"
   ]
  },
  {
   "cell_type": "code",
   "execution_count": 395,
   "metadata": {},
   "outputs": [],
   "source": [
    "qbdf['own_pct'] = qbdf.own_pct.apply(lambda x: x.strip('%'))\n",
    "qbdf.own_pct.replace(to_replace='', value='0.0', inplace=True)"
   ]
  },
  {
   "cell_type": "markdown",
   "metadata": {},
   "source": [
    "8. Since most if not all of these values were actually read in as `strings`, we'll need to convert them to numeric columns (with the exceptions of `player`, `team`, and `week`."
   ]
  },
  {
   "cell_type": "code",
   "execution_count": 396,
   "metadata": {},
   "outputs": [],
   "source": [
    "for x in [col for col in qbdf.columns if col not in ['player','week', 'team', 'year']]:\n",
    "    qbdf[x] = qbdf[x].astype(float)\n",
    "    "
   ]
  },
  {
   "cell_type": "code",
   "execution_count": 397,
   "metadata": {},
   "outputs": [
    {
     "data": {
      "text/html": [
       "<div>\n",
       "<style scoped>\n",
       "    .dataframe tbody tr th:only-of-type {\n",
       "        vertical-align: middle;\n",
       "    }\n",
       "\n",
       "    .dataframe tbody tr th {\n",
       "        vertical-align: top;\n",
       "    }\n",
       "\n",
       "    .dataframe thead th {\n",
       "        text-align: right;\n",
       "    }\n",
       "</style>\n",
       "<table border=\"1\" class=\"dataframe\">\n",
       "  <thead>\n",
       "    <tr style=\"text-align: right;\">\n",
       "      <th></th>\n",
       "      <th>player</th>\n",
       "      <th>pass_comp</th>\n",
       "      <th>pass_att</th>\n",
       "      <th>pass_pct</th>\n",
       "      <th>pass_yds</th>\n",
       "      <th>yds_per_att</th>\n",
       "      <th>pass_TD</th>\n",
       "      <th>pass_INT</th>\n",
       "      <th>sacks_taken</th>\n",
       "      <th>rush_att</th>\n",
       "      <th>rush_yds</th>\n",
       "      <th>rush_TD</th>\n",
       "      <th>fumbles_lost</th>\n",
       "      <th>active</th>\n",
       "      <th>fpoints</th>\n",
       "      <th>fpoints_g</th>\n",
       "      <th>own_pct</th>\n",
       "      <th>week</th>\n",
       "      <th>team</th>\n",
       "    </tr>\n",
       "  </thead>\n",
       "  <tbody>\n",
       "    <tr>\n",
       "      <th>464</th>\n",
       "      <td>Mitch Trubisky</td>\n",
       "      <td>19.0</td>\n",
       "      <td>26.0</td>\n",
       "      <td>73.1</td>\n",
       "      <td>354.0</td>\n",
       "      <td>13.6</td>\n",
       "      <td>6.0</td>\n",
       "      <td>0.0</td>\n",
       "      <td>1.0</td>\n",
       "      <td>3.0</td>\n",
       "      <td>53.0</td>\n",
       "      <td>0.0</td>\n",
       "      <td>0.0</td>\n",
       "      <td>1.0</td>\n",
       "      <td>43.5</td>\n",
       "      <td>43.5</td>\n",
       "      <td>25.3</td>\n",
       "      <td>4</td>\n",
       "      <td>CHI</td>\n",
       "    </tr>\n",
       "    <tr>\n",
       "      <th>29</th>\n",
       "      <td>Ryan Fitzpatrick</td>\n",
       "      <td>21.0</td>\n",
       "      <td>28.0</td>\n",
       "      <td>75.0</td>\n",
       "      <td>417.0</td>\n",
       "      <td>14.9</td>\n",
       "      <td>4.0</td>\n",
       "      <td>0.0</td>\n",
       "      <td>0.0</td>\n",
       "      <td>12.0</td>\n",
       "      <td>36.0</td>\n",
       "      <td>1.0</td>\n",
       "      <td>0.0</td>\n",
       "      <td>1.0</td>\n",
       "      <td>42.3</td>\n",
       "      <td>42.3</td>\n",
       "      <td>28.7</td>\n",
       "      <td>1</td>\n",
       "      <td>TB</td>\n",
       "    </tr>\n",
       "    <tr>\n",
       "      <th>263</th>\n",
       "      <td>Drew Brees</td>\n",
       "      <td>39.0</td>\n",
       "      <td>49.0</td>\n",
       "      <td>79.6</td>\n",
       "      <td>396.0</td>\n",
       "      <td>8.1</td>\n",
       "      <td>3.0</td>\n",
       "      <td>0.0</td>\n",
       "      <td>1.0</td>\n",
       "      <td>3.0</td>\n",
       "      <td>7.0</td>\n",
       "      <td>2.0</td>\n",
       "      <td>0.0</td>\n",
       "      <td>1.0</td>\n",
       "      <td>40.5</td>\n",
       "      <td>40.5</td>\n",
       "      <td>98.6</td>\n",
       "      <td>3</td>\n",
       "      <td>NO</td>\n",
       "    </tr>\n",
       "    <tr>\n",
       "      <th>273</th>\n",
       "      <td>Matt Ryan</td>\n",
       "      <td>26.0</td>\n",
       "      <td>35.0</td>\n",
       "      <td>74.3</td>\n",
       "      <td>374.0</td>\n",
       "      <td>10.7</td>\n",
       "      <td>5.0</td>\n",
       "      <td>0.0</td>\n",
       "      <td>3.0</td>\n",
       "      <td>4.0</td>\n",
       "      <td>12.0</td>\n",
       "      <td>0.0</td>\n",
       "      <td>0.0</td>\n",
       "      <td>1.0</td>\n",
       "      <td>40.2</td>\n",
       "      <td>40.2</td>\n",
       "      <td>94.3</td>\n",
       "      <td>3</td>\n",
       "      <td>ATL</td>\n",
       "    </tr>\n",
       "    <tr>\n",
       "      <th>450</th>\n",
       "      <td>Jared Goff</td>\n",
       "      <td>26.0</td>\n",
       "      <td>33.0</td>\n",
       "      <td>78.8</td>\n",
       "      <td>465.0</td>\n",
       "      <td>14.1</td>\n",
       "      <td>5.0</td>\n",
       "      <td>0.0</td>\n",
       "      <td>1.0</td>\n",
       "      <td>2.0</td>\n",
       "      <td>7.0</td>\n",
       "      <td>0.0</td>\n",
       "      <td>0.0</td>\n",
       "      <td>1.0</td>\n",
       "      <td>39.3</td>\n",
       "      <td>39.3</td>\n",
       "      <td>90.6</td>\n",
       "      <td>4</td>\n",
       "      <td>LAR</td>\n",
       "    </tr>\n",
       "    <tr>\n",
       "      <th>126</th>\n",
       "      <td>Ben Roethlisberger</td>\n",
       "      <td>39.0</td>\n",
       "      <td>60.0</td>\n",
       "      <td>65.0</td>\n",
       "      <td>452.0</td>\n",
       "      <td>7.5</td>\n",
       "      <td>3.0</td>\n",
       "      <td>0.0</td>\n",
       "      <td>1.0</td>\n",
       "      <td>2.0</td>\n",
       "      <td>9.0</td>\n",
       "      <td>1.0</td>\n",
       "      <td>0.0</td>\n",
       "      <td>1.0</td>\n",
       "      <td>39.0</td>\n",
       "      <td>39.0</td>\n",
       "      <td>95.1</td>\n",
       "      <td>2</td>\n",
       "      <td>PIT</td>\n",
       "    </tr>\n",
       "    <tr>\n",
       "      <th>219</th>\n",
       "      <td>Patrick Mahomes</td>\n",
       "      <td>23.0</td>\n",
       "      <td>28.0</td>\n",
       "      <td>82.1</td>\n",
       "      <td>326.0</td>\n",
       "      <td>11.6</td>\n",
       "      <td>6.0</td>\n",
       "      <td>0.0</td>\n",
       "      <td>1.0</td>\n",
       "      <td>5.0</td>\n",
       "      <td>18.0</td>\n",
       "      <td>0.0</td>\n",
       "      <td>0.0</td>\n",
       "      <td>1.0</td>\n",
       "      <td>38.8</td>\n",
       "      <td>38.8</td>\n",
       "      <td>98.7</td>\n",
       "      <td>2</td>\n",
       "      <td>KC</td>\n",
       "    </tr>\n",
       "    <tr>\n",
       "      <th>420</th>\n",
       "      <td>Andrew Luck</td>\n",
       "      <td>40.0</td>\n",
       "      <td>62.0</td>\n",
       "      <td>64.5</td>\n",
       "      <td>464.0</td>\n",
       "      <td>7.5</td>\n",
       "      <td>4.0</td>\n",
       "      <td>0.0</td>\n",
       "      <td>4.0</td>\n",
       "      <td>3.0</td>\n",
       "      <td>11.0</td>\n",
       "      <td>0.0</td>\n",
       "      <td>1.0</td>\n",
       "      <td>1.0</td>\n",
       "      <td>35.7</td>\n",
       "      <td>35.7</td>\n",
       "      <td>87.1</td>\n",
       "      <td>4</td>\n",
       "      <td>IND</td>\n",
       "    </tr>\n",
       "    <tr>\n",
       "      <th>177</th>\n",
       "      <td>Kirk Cousins</td>\n",
       "      <td>35.0</td>\n",
       "      <td>48.0</td>\n",
       "      <td>72.9</td>\n",
       "      <td>425.0</td>\n",
       "      <td>8.9</td>\n",
       "      <td>4.0</td>\n",
       "      <td>1.0</td>\n",
       "      <td>2.0</td>\n",
       "      <td>2.0</td>\n",
       "      <td>5.0</td>\n",
       "      <td>0.0</td>\n",
       "      <td>0.0</td>\n",
       "      <td>1.0</td>\n",
       "      <td>33.5</td>\n",
       "      <td>33.5</td>\n",
       "      <td>95.7</td>\n",
       "      <td>2</td>\n",
       "      <td>MIN</td>\n",
       "    </tr>\n",
       "    <tr>\n",
       "      <th>189</th>\n",
       "      <td>Blake Bortles</td>\n",
       "      <td>29.0</td>\n",
       "      <td>45.0</td>\n",
       "      <td>64.4</td>\n",
       "      <td>377.0</td>\n",
       "      <td>8.4</td>\n",
       "      <td>4.0</td>\n",
       "      <td>1.0</td>\n",
       "      <td>0.0</td>\n",
       "      <td>6.0</td>\n",
       "      <td>35.0</td>\n",
       "      <td>0.0</td>\n",
       "      <td>0.0</td>\n",
       "      <td>1.0</td>\n",
       "      <td>32.6</td>\n",
       "      <td>32.6</td>\n",
       "      <td>42.0</td>\n",
       "      <td>2</td>\n",
       "      <td>JAC</td>\n",
       "    </tr>\n",
       "  </tbody>\n",
       "</table>\n",
       "</div>"
      ],
      "text/plain": [
       "                 player  pass_comp  pass_att  pass_pct  pass_yds  yds_per_att  \\\n",
       "464      Mitch Trubisky       19.0      26.0      73.1     354.0         13.6   \n",
       "29     Ryan Fitzpatrick       21.0      28.0      75.0     417.0         14.9   \n",
       "263          Drew Brees       39.0      49.0      79.6     396.0          8.1   \n",
       "273           Matt Ryan       26.0      35.0      74.3     374.0         10.7   \n",
       "450          Jared Goff       26.0      33.0      78.8     465.0         14.1   \n",
       "126  Ben Roethlisberger       39.0      60.0      65.0     452.0          7.5   \n",
       "219     Patrick Mahomes       23.0      28.0      82.1     326.0         11.6   \n",
       "420         Andrew Luck       40.0      62.0      64.5     464.0          7.5   \n",
       "177        Kirk Cousins       35.0      48.0      72.9     425.0          8.9   \n",
       "189       Blake Bortles       29.0      45.0      64.4     377.0          8.4   \n",
       "\n",
       "     pass_TD  pass_INT  sacks_taken  rush_att  rush_yds  rush_TD  \\\n",
       "464      6.0       0.0          1.0       3.0      53.0      0.0   \n",
       "29       4.0       0.0          0.0      12.0      36.0      1.0   \n",
       "263      3.0       0.0          1.0       3.0       7.0      2.0   \n",
       "273      5.0       0.0          3.0       4.0      12.0      0.0   \n",
       "450      5.0       0.0          1.0       2.0       7.0      0.0   \n",
       "126      3.0       0.0          1.0       2.0       9.0      1.0   \n",
       "219      6.0       0.0          1.0       5.0      18.0      0.0   \n",
       "420      4.0       0.0          4.0       3.0      11.0      0.0   \n",
       "177      4.0       1.0          2.0       2.0       5.0      0.0   \n",
       "189      4.0       1.0          0.0       6.0      35.0      0.0   \n",
       "\n",
       "     fumbles_lost  active  fpoints  fpoints_g  own_pct week team  \n",
       "464           0.0     1.0     43.5       43.5     25.3    4  CHI  \n",
       "29            0.0     1.0     42.3       42.3     28.7    1   TB  \n",
       "263           0.0     1.0     40.5       40.5     98.6    3   NO  \n",
       "273           0.0     1.0     40.2       40.2     94.3    3  ATL  \n",
       "450           0.0     1.0     39.3       39.3     90.6    4  LAR  \n",
       "126           0.0     1.0     39.0       39.0     95.1    2  PIT  \n",
       "219           0.0     1.0     38.8       38.8     98.7    2   KC  \n",
       "420           1.0     1.0     35.7       35.7     87.1    4  IND  \n",
       "177           0.0     1.0     33.5       33.5     95.7    2  MIN  \n",
       "189           0.0     1.0     32.6       32.6     42.0    2  JAC  "
      ]
     },
     "execution_count": 397,
     "metadata": {},
     "output_type": "execute_result"
    }
   ],
   "source": [
    "# Checking to see if we;ll be able to manipulate it how we want\n",
    "qbdf.sort_values('fpoints', ascending=False).head(10)"
   ]
  },
  {
   "cell_type": "markdown",
   "metadata": {},
   "source": [
    "Through Week 5, no player has posted 2 of the season's Top 10 QB performances — yay parity!"
   ]
  },
  {
   "cell_type": "markdown",
   "metadata": {},
   "source": [
    "9. Now let's dump everything we have so far into a `csv` file that we can save to our current working directory:"
   ]
  },
  {
   "cell_type": "code",
   "execution_count": 398,
   "metadata": {},
   "outputs": [],
   "source": [
    "qbdf.to_csv('qbstats_2018.csv')"
   ]
  },
  {
   "cell_type": "markdown",
   "metadata": {},
   "source": [
    "### Doing the same thing for our RBs"
   ]
  },
  {
   "cell_type": "code",
   "execution_count": 399,
   "metadata": {},
   "outputs": [],
   "source": [
    "player = []\n",
    "\n",
    "rush_att = []\n",
    "rush_yds = []\n",
    "rush_ypc = []\n",
    "long = []\n",
    "over_20 = []\n",
    "rush_TD = []\n",
    "\n",
    "receptions = []\n",
    "targets = []\n",
    "rec_yds = []\n",
    "rec_ypr = []\n",
    "rec_TD = []\n",
    "\n",
    "fumbles_lost = []\n",
    "active = []\n",
    "fpoints = []\n",
    "fpoints_g = []\n",
    "own_pct = []"
   ]
  },
  {
   "cell_type": "code",
   "execution_count": null,
   "metadata": {},
   "outputs": [],
   "source": []
  },
  {
   "cell_type": "code",
   "execution_count": null,
   "metadata": {},
   "outputs": [],
   "source": []
  }
 ],
 "metadata": {
  "kernelspec": {
   "display_name": "Python 3",
   "language": "python",
   "name": "python3"
  },
  "language_info": {
   "codemirror_mode": {
    "name": "ipython",
    "version": 3
   },
   "file_extension": ".py",
   "mimetype": "text/x-python",
   "name": "python",
   "nbconvert_exporter": "python",
   "pygments_lexer": "ipython3",
   "version": "3.6.5"
  }
 },
 "nbformat": 4,
 "nbformat_minor": 2
}
