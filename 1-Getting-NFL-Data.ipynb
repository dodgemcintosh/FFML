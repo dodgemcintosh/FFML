{
 "cells": [
  {
   "cell_type": "markdown",
   "metadata": {},
   "source": [
    "# // Getting NFL Data\n",
    "___\n",
    "The first step in getting this project underway is going to be getting **massive** amounts of NFL data from the web. I will be working in this notebook to \"show my work\" and for others to learn how to if they're curious. Ultimately, I'll also turn it into a regular `.py` Python script that you can run if you're so inclined."
   ]
  },
  {
   "cell_type": "markdown",
   "metadata": {},
   "source": [
    "For that, we're going to start out using the `requests` and `BeautifulSoup` libraries as well as API calls to glean information from:\n",
    "- [Reddit recommendations](https://www.reddit.com/r/fantasyfootball/comments/34mbth/datasets_for_fantasy_football/)\n",
    "- **nflgame** [here](http://wseaton.com/pulling-data-with-nflgame.html) and [here](https://pypi.org/project/nflgame/)\n",
    "- [fantasydata](https://fantasydata.com/)\n",
    "- [Pro Football Reference](https://www.pro-football-reference.com/)\n",
    "\n",
    "EDIT: After further review (see some commentary below), the 3 I'm going to try and work with the most are:\n",
    "- [Pro Football Reference](https://www.pro-football-reference.com/)\n",
    "- [FFToday](http://www.fftoday.com/stats/)\n",
    "- [The Football Database](https://www.footballdb.com/fantasy-football/index.html)"
   ]
  },
  {
   "cell_type": "code",
   "execution_count": 4,
   "metadata": {},
   "outputs": [],
   "source": [
    "# Importing our necessary libraries\n",
    "import requests\n",
    "import matplotlib.pyplot as plt\n",
    "import seaborn as sns\n",
    "import pandas as pd\n",
    "import requests\n",
    "\n",
    "from bs4 import BeautifulSoup\n",
    "from selenium import webdriver\n",
    "from time import sleep\n",
    "%matplotlib inline"
   ]
  },
  {
   "cell_type": "markdown",
   "metadata": {},
   "source": [
    "## Let's take a look at ~~nflgame~~\n",
    "\n",
    "___About___ `nflgame`:\n",
    "nflgame is an API to retrieve and read NFL Game Center JSON data. It can work with real-time data, which can be used for fantasy football.\n",
    "\n",
    "nflgame works by parsing the same JSON data that powers NFL.com’s live GameCenter. Therefore, nflgame can be used to report game statistics while a game is being played.\n",
    "\n",
    "The package comes pre-loaded with game data from every pre- and regular season game from 2009 up until the present (Author tries to update it every week). Therefore, querying such data does not actually ping NFL.com.\n",
    "\n",
    "However, if you try to search for data in a game that is being currently played, the JSON data will be downloaded from NFL.com at each request (so be careful not to inspect for data too many times while a game is being played). If you ask for data for a particular game that hasn’t been cached to disk but is no longer being played, it will be automatically cached to disk so that no further downloads are required.\n",
    "\n",
    "- Going to work through a little example of one-off coding first.\n",
    "- **Important:** If you haven't installed nflgame yet, you'll need to by running: `pip install nflgame`"
   ]
  },
  {
   "cell_type": "code",
   "execution_count": 2,
   "metadata": {},
   "outputs": [
    {
     "name": "stdout",
     "output_type": "stream",
     "text": [
      "nflgame requires Python 2.6+ and does not yet work with Python 3\n",
      "You are running Python version 3.6\n"
     ]
    },
    {
     "ename": "SystemExit",
     "evalue": "1",
     "output_type": "error",
     "traceback": [
      "An exception has occurred, use %tb to see the full traceback.\n",
      "\u001b[0;31mSystemExit\u001b[0m\u001b[0;31m:\u001b[0m 1\n"
     ]
    },
    {
     "name": "stderr",
     "output_type": "stream",
     "text": [
      "/anaconda3/lib/python3.6/site-packages/IPython/core/interactiveshell.py:2971: UserWarning: To exit: use 'exit', 'quit', or Ctrl-D.\n",
      "  warn(\"To exit: use 'exit', 'quit', or Ctrl-D.\", stacklevel=1)\n"
     ]
    }
   ],
   "source": [
    "import nflgame\n",
    "import datetime"
   ]
  },
  {
   "cell_type": "markdown",
   "metadata": {},
   "source": [
    "**Welp. Going to switch gears for a bit then...**"
   ]
  },
  {
   "cell_type": "markdown",
   "metadata": {},
   "source": [
    "## Looking at ~~fantasydata~~\n",
    "- Require membership and paid subscription\n",
    "- Going to avoid this for now since I want people to be able to follow along for free if they want."
   ]
  },
  {
   "cell_type": "markdown",
   "metadata": {},
   "source": [
    "## Scraping Pro Football Reference:"
   ]
  },
  {
   "cell_type": "code",
   "execution_count": null,
   "metadata": {},
   "outputs": [],
   "source": []
  },
  {
   "cell_type": "code",
   "execution_count": null,
   "metadata": {},
   "outputs": [],
   "source": []
  },
  {
   "cell_type": "code",
   "execution_count": null,
   "metadata": {},
   "outputs": [],
   "source": []
  },
  {
   "cell_type": "markdown",
   "metadata": {},
   "source": [
    "## Now looking at FFToday\n",
    "- Need to register for free\n",
    "- Looking at .5 PPR scoring"
   ]
  },
  {
   "cell_type": "code",
   "execution_count": 78,
   "metadata": {},
   "outputs": [],
   "source": [
    "res = requests.get('http://www.fftoday.com/stats/playerstats.php?Season=2018&GameWeek=1&PosID=10&LeagueID=193033')\n",
    "soup = BeautifulSoup(res.content, 'lxml')"
   ]
  },
  {
   "cell_type": "code",
   "execution_count": 79,
   "metadata": {},
   "outputs": [],
   "source": [
    "fftoday_qbs = pd.DataFrame(columns= ['player', 'team', 'game', 'pass_comp',\n",
    "                                'pass_att', 'pass_yds', 'pass_TD', 'pass_INT',\n",
    "                                'rush_att', 'rush_yds', 'rush_TD', 'fpoints'])"
   ]
  },
  {
   "cell_type": "code",
   "execution_count": 80,
   "metadata": {},
   "outputs": [
    {
     "data": {
      "text/html": [
       "<div>\n",
       "<style scoped>\n",
       "    .dataframe tbody tr th:only-of-type {\n",
       "        vertical-align: middle;\n",
       "    }\n",
       "\n",
       "    .dataframe tbody tr th {\n",
       "        vertical-align: top;\n",
       "    }\n",
       "\n",
       "    .dataframe thead th {\n",
       "        text-align: right;\n",
       "    }\n",
       "</style>\n",
       "<table border=\"1\" class=\"dataframe\">\n",
       "  <thead>\n",
       "    <tr style=\"text-align: right;\">\n",
       "      <th></th>\n",
       "      <th>player</th>\n",
       "      <th>team</th>\n",
       "      <th>game</th>\n",
       "      <th>pass_comp</th>\n",
       "      <th>pass_att</th>\n",
       "      <th>pass_yds</th>\n",
       "      <th>pass_TD</th>\n",
       "      <th>pass_INT</th>\n",
       "      <th>rush_att</th>\n",
       "      <th>rush_yds</th>\n",
       "      <th>rush_TD</th>\n",
       "      <th>fpoints</th>\n",
       "    </tr>\n",
       "  </thead>\n",
       "  <tbody>\n",
       "  </tbody>\n",
       "</table>\n",
       "</div>"
      ],
      "text/plain": [
       "Empty DataFrame\n",
       "Columns: [player, team, game, pass_comp, pass_att, pass_yds, pass_TD, pass_INT, rush_att, rush_yds, rush_TD, fpoints]\n",
       "Index: []"
      ]
     },
     "execution_count": 80,
     "metadata": {},
     "output_type": "execute_result"
    }
   ],
   "source": [
    "fftoday_qbs"
   ]
  },
  {
   "cell_type": "code",
   "execution_count": 81,
   "metadata": {},
   "outputs": [],
   "source": [
    "player = []\n",
    "team = []\n",
    "week = []\n",
    "pass_comp = []\n",
    "pass_att = []\n",
    "pass_yds = []\n",
    "pass_TD = []\n",
    "pass_INT = []\n",
    "rush_att = []\n",
    "rush_yds = []\n",
    "rush_TD = []\n",
    "fpoints = []"
   ]
  },
  {
   "cell_type": "code",
   "execution_count": 82,
   "metadata": {},
   "outputs": [],
   "source": [
    "qb_columns_lists = [player,\n",
    "                    team,\n",
    "                    week,\n",
    "                    pass_comp,\n",
    "                    pass_att,\n",
    "                    pass_yds,\n",
    "                    pass_TD,\n",
    "                    pass_INT,\n",
    "                    rush_att,\n",
    "                    rush_yds,\n",
    "                    rush_TD,\n",
    "                    fpoints]"
   ]
  },
  {
   "cell_type": "code",
   "execution_count": 83,
   "metadata": {},
   "outputs": [],
   "source": [
    "for row in soup.find('table', {'cellpadding':2}).find_all('tr')[2:]:\n",
    "    cells = row.find_all('td')\n",
    "    for index, selection in enumerate(qb_columns_lists):\n",
    "        selection.append(cells[index].text.strip())"
   ]
  },
  {
   "cell_type": "code",
   "execution_count": 84,
   "metadata": {},
   "outputs": [
    {
     "data": {
      "text/plain": [
       "['1. Ryan Fitzpatrick',\n",
       " '2. Drew Brees',\n",
       " '3. Philip Rivers',\n",
       " '4. Patrick Mahomes',\n",
       " '5. Tyrod Taylor',\n",
       " '6. Case Keenum',\n",
       " '7. Aaron Rodgers',\n",
       " '8. Russell Wilson',\n",
       " '9. Tom Brady',\n",
       " '10. Joe Flacco',\n",
       " '11. Andrew Luck',\n",
       " '12. Kirk Cousins',\n",
       " '13. Alex Smith',\n",
       " '14. Ben Roethlisberger',\n",
       " '15. Andy Dalton',\n",
       " '16. Cam Newton',\n",
       " '17. Ryan Tannehill',\n",
       " '18. Jared Goff',\n",
       " '19. Matthew Stafford',\n",
       " '20. Mitchell Trubisky',\n",
       " '21. Sam Darnold',\n",
       " '22. Blake Bortles',\n",
       " '23. Jimmy Garoppolo',\n",
       " '24. Deshaun Watson',\n",
       " '25. Derek Carr',\n",
       " '26. Matt Ryan',\n",
       " '27. Eli Manning',\n",
       " '28. Dak Prescott',\n",
       " '29. Sam Bradford',\n",
       " '30. Marcus Mariota',\n",
       " '31. Josh Allen',\n",
       " '32. Lamar Jackson',\n",
       " '33. Blaine Gabbert',\n",
       " '34. Nick Foles',\n",
       " '35. DeShone Kizer',\n",
       " '36. Nathan Peterman',\n",
       " '37. Matt Cassel']"
      ]
     },
     "execution_count": 84,
     "metadata": {},
     "output_type": "execute_result"
    }
   ],
   "source": [
    "player"
   ]
  },
  {
   "cell_type": "code",
   "execution_count": null,
   "metadata": {},
   "outputs": [],
   "source": []
  }
 ],
 "metadata": {
  "kernelspec": {
   "display_name": "Python 3",
   "language": "python",
   "name": "python3"
  },
  "language_info": {
   "codemirror_mode": {
    "name": "ipython",
    "version": 3
   },
   "file_extension": ".py",
   "mimetype": "text/x-python",
   "name": "python",
   "nbconvert_exporter": "python",
   "pygments_lexer": "ipython3",
   "version": "3.6.5"
  }
 },
 "nbformat": 4,
 "nbformat_minor": 2
}
