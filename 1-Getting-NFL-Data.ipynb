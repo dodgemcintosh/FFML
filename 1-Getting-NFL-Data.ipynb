{
 "cells": [
  {
   "cell_type": "markdown",
   "metadata": {},
   "source": [
    "# // Getting NFL Data\n",
    "___\n",
    "The first step in getting this project underway is going to be getting **massive** amounts of NFL data from the web. I will be working in this notebook to \"show my work\" and for others to learn how to if they're curious. Ultimately, I'll also turn it into a regular `.py` Python script that you can run if you're so inclined."
   ]
  },
  {
   "cell_type": "markdown",
   "metadata": {},
   "source": [
    "For that, we're going to use the `requests` and `BeautifulSoup` libraries as well as API calls to glean information from:\n",
    "\n",
    "- [Pro Football Reference](https://www.pro-football-reference.com/)\n",
    "- [FFToday](http://www.fftoday.com/stats/)\n",
    "- [The Football Database](https://www.footballdb.com/fantasy-football/index.html)"
   ]
  },
  {
   "cell_type": "code",
   "execution_count": 1,
   "metadata": {},
   "outputs": [],
   "source": [
    "# Importing our necessary libraries\n",
    "import requests\n",
    "import matplotlib.pyplot as plt\n",
    "import seaborn as sns\n",
    "import pandas as pd\n",
    "import requests\n",
    "\n",
    "from bs4 import BeautifulSoup\n",
    "from selenium import webdriver\n",
    "from time import sleep\n",
    "%matplotlib inline"
   ]
  },
  {
   "cell_type": "markdown",
   "metadata": {},
   "source": [
    "## Let's start with FFToday\n",
    "I'm choosing to go with this one first for the following reasons:\n",
    "- Need to register for free\n",
    "- Looking at .5 PPR scoring\n",
    "- The Football Database seemed like it was missing quite a few players from each week"
   ]
  },
  {
   "cell_type": "markdown",
   "metadata": {},
   "source": [
    "Setting up the scraping for **one position** iteration of our scrape:"
   ]
  },
  {
   "cell_type": "markdown",
   "metadata": {},
   "source": [
    "1. Making an empty `dataframe` to throw our scrape into:"
   ]
  },
  {
   "cell_type": "code",
   "execution_count": 76,
   "metadata": {},
   "outputs": [
    {
     "data": {
      "text/html": [
       "<div>\n",
       "<style scoped>\n",
       "    .dataframe tbody tr th:only-of-type {\n",
       "        vertical-align: middle;\n",
       "    }\n",
       "\n",
       "    .dataframe tbody tr th {\n",
       "        vertical-align: top;\n",
       "    }\n",
       "\n",
       "    .dataframe thead th {\n",
       "        text-align: right;\n",
       "    }\n",
       "</style>\n",
       "<table border=\"1\" class=\"dataframe\">\n",
       "  <thead>\n",
       "    <tr style=\"text-align: right;\">\n",
       "      <th></th>\n",
       "      <th>player</th>\n",
       "      <th>team</th>\n",
       "      <th>week</th>\n",
       "      <th>pass_comp</th>\n",
       "      <th>pass_att</th>\n",
       "      <th>pass_yds</th>\n",
       "      <th>pass_TD</th>\n",
       "      <th>pass_INT</th>\n",
       "      <th>rush_att</th>\n",
       "      <th>rush_yds</th>\n",
       "      <th>rush_TD</th>\n",
       "      <th>fpoints</th>\n",
       "    </tr>\n",
       "  </thead>\n",
       "  <tbody>\n",
       "  </tbody>\n",
       "</table>\n",
       "</div>"
      ],
      "text/plain": [
       "Empty DataFrame\n",
       "Columns: [player, team, week, pass_comp, pass_att, pass_yds, pass_TD, pass_INT, rush_att, rush_yds, rush_TD, fpoints]\n",
       "Index: []"
      ]
     },
     "execution_count": 76,
     "metadata": {},
     "output_type": "execute_result"
    }
   ],
   "source": [
    "qbs_df = pd.DataFrame(columns= ['player', 'team', 'week', 'pass_comp',\n",
    "                                'pass_att', 'pass_yds', 'pass_TD', 'pass_INT',\n",
    "                                'rush_att', 'rush_yds', 'rush_TD', 'fpoints'])\n",
    "qbs_df"
   ]
  },
  {
   "cell_type": "markdown",
   "metadata": {},
   "source": [
    "2. Making some empty `lists` to fill with stats:"
   ]
  },
  {
   "cell_type": "code",
   "execution_count": 77,
   "metadata": {},
   "outputs": [],
   "source": [
    "player = []\n",
    "team = []\n",
    "week = []\n",
    "pass_comp = []\n",
    "pass_att = []\n",
    "pass_yds = []\n",
    "pass_TD = []\n",
    "pass_INT = []\n",
    "rush_att = []\n",
    "rush_yds = []\n",
    "rush_TD = []\n",
    "fpoints = []"
   ]
  },
  {
   "cell_type": "code",
   "execution_count": 78,
   "metadata": {},
   "outputs": [],
   "source": [
    "qb_columns_lists = [player, team, week, pass_comp, pass_att, pass_yds, pass_TD, pass_INT, \n",
    "                    rush_att, rush_yds, rush_TD, fpoints]"
   ]
  },
  {
   "cell_type": "markdown",
   "metadata": {},
   "source": [
    "3. Doing the actual scrape by going through each week of the season (via each URL iteration), grabbing the right `table`, iterating through each `row` and then `cell`, and putting that data into the appropriate `lists`."
   ]
  },
  {
   "cell_type": "code",
   "execution_count": 79,
   "metadata": {},
   "outputs": [],
   "source": [
    "res = requests.get('http://www.fftoday.com/stats/playerstats.php?Season=2018&GameWeek=1&PosID=10&LeagueID=193033')\n",
    "soup = BeautifulSoup(res.content, 'lxml')\n",
    "\n",
    "\n",
    "for number in range(1,5):\n",
    "    res = requests.get('http://www.fftoday.com/stats/playerstats.php?Season=2018&GameWeek={}&PosID=10&LeagueID=193033'.format(number))\n",
    "    soup = BeautifulSoup(res.content, 'lxml')\n",
    "    for row in soup.find('table', {'cellpadding':2}).find_all('tr')[2:]:\n",
    "        cells = row.find_all('td')\n",
    "        for index, selection in enumerate(qb_columns_lists):\n",
    "            selection.append(cells[index].text.strip())\n",
    "        # The \"week\" column from our website is actually always 1, and I'm not sure what it does\n",
    "        # I want \"week\" to become a unique identifier to bring in opponents\n",
    "        week.pop()\n",
    "        week.append(number)"
   ]
  },
  {
   "cell_type": "markdown",
   "metadata": {},
   "source": [
    "4. Cleaning up a little kerfuffle in the `player` column."
   ]
  },
  {
   "cell_type": "code",
   "execution_count": 81,
   "metadata": {},
   "outputs": [],
   "source": [
    "player = [individual[3:].lstrip() for individual in player]\n",
    "qb_columns_lists[0] = player"
   ]
  },
  {
   "cell_type": "markdown",
   "metadata": {},
   "source": [
    "5. Filling our `dataframe` with all of the appropriate `lists`."
   ]
  },
  {
   "cell_type": "code",
   "execution_count": 82,
   "metadata": {},
   "outputs": [],
   "source": [
    "for index, column in enumerate(qbs_df.columns):\n",
    "    qbs_df[str(column)] = qb_columns_lists[index]"
   ]
  },
  {
   "cell_type": "code",
   "execution_count": 83,
   "metadata": {},
   "outputs": [
    {
     "data": {
      "text/html": [
       "<div>\n",
       "<style scoped>\n",
       "    .dataframe tbody tr th:only-of-type {\n",
       "        vertical-align: middle;\n",
       "    }\n",
       "\n",
       "    .dataframe tbody tr th {\n",
       "        vertical-align: top;\n",
       "    }\n",
       "\n",
       "    .dataframe thead th {\n",
       "        text-align: right;\n",
       "    }\n",
       "</style>\n",
       "<table border=\"1\" class=\"dataframe\">\n",
       "  <thead>\n",
       "    <tr style=\"text-align: right;\">\n",
       "      <th></th>\n",
       "      <th>player</th>\n",
       "      <th>team</th>\n",
       "      <th>week</th>\n",
       "      <th>pass_comp</th>\n",
       "      <th>pass_att</th>\n",
       "      <th>pass_yds</th>\n",
       "      <th>pass_TD</th>\n",
       "      <th>pass_INT</th>\n",
       "      <th>rush_att</th>\n",
       "      <th>rush_yds</th>\n",
       "      <th>rush_TD</th>\n",
       "      <th>fpoints</th>\n",
       "    </tr>\n",
       "  </thead>\n",
       "  <tbody>\n",
       "    <tr>\n",
       "      <th>0</th>\n",
       "      <td>Ryan Fitzpatrick</td>\n",
       "      <td>TB</td>\n",
       "      <td>1</td>\n",
       "      <td>21</td>\n",
       "      <td>28</td>\n",
       "      <td>417</td>\n",
       "      <td>4</td>\n",
       "      <td>0</td>\n",
       "      <td>12</td>\n",
       "      <td>36</td>\n",
       "      <td>1</td>\n",
       "      <td>42.3</td>\n",
       "    </tr>\n",
       "    <tr>\n",
       "      <th>1</th>\n",
       "      <td>Drew Brees</td>\n",
       "      <td>NO</td>\n",
       "      <td>1</td>\n",
       "      <td>37</td>\n",
       "      <td>45</td>\n",
       "      <td>439</td>\n",
       "      <td>3</td>\n",
       "      <td>0</td>\n",
       "      <td>0</td>\n",
       "      <td>0</td>\n",
       "      <td>0</td>\n",
       "      <td>29.6</td>\n",
       "    </tr>\n",
       "    <tr>\n",
       "      <th>2</th>\n",
       "      <td>Philip Rivers</td>\n",
       "      <td>LAC</td>\n",
       "      <td>1</td>\n",
       "      <td>34</td>\n",
       "      <td>51</td>\n",
       "      <td>424</td>\n",
       "      <td>3</td>\n",
       "      <td>1</td>\n",
       "      <td>0</td>\n",
       "      <td>0</td>\n",
       "      <td>0</td>\n",
       "      <td>29.0</td>\n",
       "    </tr>\n",
       "    <tr>\n",
       "      <th>3</th>\n",
       "      <td>Patrick Mahomes</td>\n",
       "      <td>KC</td>\n",
       "      <td>1</td>\n",
       "      <td>15</td>\n",
       "      <td>27</td>\n",
       "      <td>256</td>\n",
       "      <td>4</td>\n",
       "      <td>0</td>\n",
       "      <td>5</td>\n",
       "      <td>21</td>\n",
       "      <td>0</td>\n",
       "      <td>28.3</td>\n",
       "    </tr>\n",
       "    <tr>\n",
       "      <th>4</th>\n",
       "      <td>Tyrod Taylor</td>\n",
       "      <td>CLE</td>\n",
       "      <td>1</td>\n",
       "      <td>15</td>\n",
       "      <td>40</td>\n",
       "      <td>197</td>\n",
       "      <td>1</td>\n",
       "      <td>1</td>\n",
       "      <td>8</td>\n",
       "      <td>77</td>\n",
       "      <td>1</td>\n",
       "      <td>25.6</td>\n",
       "    </tr>\n",
       "  </tbody>\n",
       "</table>\n",
       "</div>"
      ],
      "text/plain": [
       "             player team  week pass_comp pass_att pass_yds pass_TD pass_INT  \\\n",
       "0  Ryan Fitzpatrick   TB     1        21       28      417       4        0   \n",
       "1        Drew Brees   NO     1        37       45      439       3        0   \n",
       "2     Philip Rivers  LAC     1        34       51      424       3        1   \n",
       "3   Patrick Mahomes   KC     1        15       27      256       4        0   \n",
       "4      Tyrod Taylor  CLE     1        15       40      197       1        1   \n",
       "\n",
       "  rush_att rush_yds rush_TD fpoints  \n",
       "0       12       36       1    42.3  \n",
       "1        0        0       0    29.6  \n",
       "2        0        0       0    29.0  \n",
       "3        5       21       0    28.3  \n",
       "4        8       77       1    25.6  "
      ]
     },
     "execution_count": 83,
     "metadata": {},
     "output_type": "execute_result"
    }
   ],
   "source": [
    "qbs_df.head()"
   ]
  },
  {
   "cell_type": "markdown",
   "metadata": {},
   "source": [
    "- Spot checking with a single player:"
   ]
  },
  {
   "cell_type": "code",
   "execution_count": 84,
   "metadata": {},
   "outputs": [
    {
     "data": {
      "text/html": [
       "<div>\n",
       "<style scoped>\n",
       "    .dataframe tbody tr th:only-of-type {\n",
       "        vertical-align: middle;\n",
       "    }\n",
       "\n",
       "    .dataframe tbody tr th {\n",
       "        vertical-align: top;\n",
       "    }\n",
       "\n",
       "    .dataframe thead th {\n",
       "        text-align: right;\n",
       "    }\n",
       "</style>\n",
       "<table border=\"1\" class=\"dataframe\">\n",
       "  <thead>\n",
       "    <tr style=\"text-align: right;\">\n",
       "      <th></th>\n",
       "      <th>player</th>\n",
       "      <th>team</th>\n",
       "      <th>week</th>\n",
       "      <th>pass_comp</th>\n",
       "      <th>pass_att</th>\n",
       "      <th>pass_yds</th>\n",
       "      <th>pass_TD</th>\n",
       "      <th>pass_INT</th>\n",
       "      <th>rush_att</th>\n",
       "      <th>rush_yds</th>\n",
       "      <th>rush_TD</th>\n",
       "      <th>fpoints</th>\n",
       "    </tr>\n",
       "  </thead>\n",
       "  <tbody>\n",
       "    <tr>\n",
       "      <th>8</th>\n",
       "      <td>Tom Brady</td>\n",
       "      <td>NE</td>\n",
       "      <td>1</td>\n",
       "      <td>26</td>\n",
       "      <td>39</td>\n",
       "      <td>277</td>\n",
       "      <td>3</td>\n",
       "      <td>1</td>\n",
       "      <td>1</td>\n",
       "      <td>2</td>\n",
       "      <td>0</td>\n",
       "      <td>23.3</td>\n",
       "    </tr>\n",
       "    <tr>\n",
       "      <th>52</th>\n",
       "      <td>Tom Brady</td>\n",
       "      <td>NE</td>\n",
       "      <td>2</td>\n",
       "      <td>24</td>\n",
       "      <td>35</td>\n",
       "      <td>234</td>\n",
       "      <td>2</td>\n",
       "      <td>0</td>\n",
       "      <td>3</td>\n",
       "      <td>10</td>\n",
       "      <td>0</td>\n",
       "      <td>18.4</td>\n",
       "    </tr>\n",
       "    <tr>\n",
       "      <th>98</th>\n",
       "      <td>Tom Brady</td>\n",
       "      <td>NE</td>\n",
       "      <td>3</td>\n",
       "      <td>14</td>\n",
       "      <td>26</td>\n",
       "      <td>133</td>\n",
       "      <td>1</td>\n",
       "      <td>1</td>\n",
       "      <td>1</td>\n",
       "      <td>2</td>\n",
       "      <td>0</td>\n",
       "      <td>9.5</td>\n",
       "    </tr>\n",
       "    <tr>\n",
       "      <th>119</th>\n",
       "      <td>Tom Brady</td>\n",
       "      <td>NE</td>\n",
       "      <td>4</td>\n",
       "      <td>23</td>\n",
       "      <td>35</td>\n",
       "      <td>274</td>\n",
       "      <td>3</td>\n",
       "      <td>2</td>\n",
       "      <td>0</td>\n",
       "      <td>0</td>\n",
       "      <td>0</td>\n",
       "      <td>23.0</td>\n",
       "    </tr>\n",
       "  </tbody>\n",
       "</table>\n",
       "</div>"
      ],
      "text/plain": [
       "        player team  week pass_comp pass_att pass_yds pass_TD pass_INT  \\\n",
       "8    Tom Brady   NE     1        26       39      277       3        1   \n",
       "52   Tom Brady   NE     2        24       35      234       2        0   \n",
       "98   Tom Brady   NE     3        14       26      133       1        1   \n",
       "119  Tom Brady   NE     4        23       35      274       3        2   \n",
       "\n",
       "    rush_att rush_yds rush_TD fpoints  \n",
       "8          1        2       0    23.3  \n",
       "52         3       10       0    18.4  \n",
       "98         1        2       0     9.5  \n",
       "119        0        0       0    23.0  "
      ]
     },
     "execution_count": 84,
     "metadata": {},
     "output_type": "execute_result"
    }
   ],
   "source": [
    "qbs_df[qbs_df['player'] == 'Tom Brady']"
   ]
  },
  {
   "cell_type": "markdown",
   "metadata": {},
   "source": [
    "6. Alright! Looking like what we've got so far is working! Except..."
   ]
  },
  {
   "cell_type": "code",
   "execution_count": 88,
   "metadata": {},
   "outputs": [
    {
     "data": {
      "text/plain": [
       "player       object\n",
       "team         object\n",
       "week          int64\n",
       "pass_comp    object\n",
       "pass_att     object\n",
       "pass_yds     object\n",
       "pass_TD      object\n",
       "pass_INT     object\n",
       "rush_att     object\n",
       "rush_yds     object\n",
       "rush_TD      object\n",
       "fpoints      object\n",
       "dtype: object"
      ]
     },
     "execution_count": 88,
     "metadata": {},
     "output_type": "execute_result"
    }
   ],
   "source": [
    "qbs_df.dtypes"
   ]
  },
  {
   "cell_type": "code",
   "execution_count": 90,
   "metadata": {},
   "outputs": [],
   "source": [
    "for col in qbs_df.columns[2:]:\n",
    "    qbs_df[col] = qbs_df[col].astype(float)"
   ]
  },
  {
   "cell_type": "code",
   "execution_count": 91,
   "metadata": {},
   "outputs": [
    {
     "data": {
      "text/plain": [
       "player        object\n",
       "team          object\n",
       "week         float64\n",
       "pass_comp    float64\n",
       "pass_att     float64\n",
       "pass_yds     float64\n",
       "pass_TD      float64\n",
       "pass_INT     float64\n",
       "rush_att     float64\n",
       "rush_yds     float64\n",
       "rush_TD      float64\n",
       "fpoints      float64\n",
       "dtype: object"
      ]
     },
     "execution_count": 91,
     "metadata": {},
     "output_type": "execute_result"
    }
   ],
   "source": [
    "qbs_df.dtypes"
   ]
  },
  {
   "cell_type": "markdown",
   "metadata": {},
   "source": [
    "#### Woohoo! Looking like we're good there for now (for one position and with very basic info). Let's mess around with some vizzes!"
   ]
  },
  {
   "cell_type": "code",
   "execution_count": 100,
   "metadata": {},
   "outputs": [
    {
     "data": {
      "image/png": "[encoded data removed]",
      "text/plain": [
       "<Figure size 432x288 with 1 Axes>"
      ]
     },
     "metadata": {},
     "output_type": "display_data"
    }
   ],
   "source": [
    "sns.lineplot(x=\"week\", y=\"fpoints\", data=qbs_df[(qbs_df.player == 'Drew Brees') | (qbs_df.player == 'Patrick Mahomes')], hue='player');"
   ]
  },
  {
   "cell_type": "code",
   "execution_count": null,
   "metadata": {},
   "outputs": [],
   "source": []
  }
 ],
 "metadata": {
  "kernelspec": {
   "display_name": "Python 3",
   "language": "python",
   "name": "python3"
  },
  "language_info": {
   "codemirror_mode": {
    "name": "ipython",
    "version": 3
   },
   "file_extension": ".py",
   "mimetype": "text/x-python",
   "name": "python",
   "nbconvert_exporter": "python",
   "pygments_lexer": "ipython3",
   "version": "3.6.5"
  }
 },
 "nbformat": 4,
 "nbformat_minor": 2
}
