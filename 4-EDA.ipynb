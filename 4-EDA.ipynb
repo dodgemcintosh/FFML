{
 "cells": [
  {
   "cell_type": "markdown",
   "metadata": {},
   "source": [
    "# NFL Data EDA\n",
    "___\n",
    "The objectives of this notebook are as follows:\n",
    "- Perform initial exploratory data analysis to identify unique storylines and insights\n",
    "- Engineer new features that will be useful for the above goal in addition to modeling (our next stage)\n",
    "- Visualize the data to draw out valuable perspective and illustration"
   ]
  },
  {
   "cell_type": "markdown",
   "metadata": {},
   "source": [
    "## Halfway Check-In\n",
    "We are now at the end of Week 8 of 2018 season, marking the halfway point for the regular season. Now seems like a good time to dig into some season-long trends and see what we can feel comfortable using moving forward."
   ]
  },
  {
   "cell_type": "code",
   "execution_count": 73,
   "metadata": {},
   "outputs": [],
   "source": [
    "import pandas as pd\n",
    "import matplotlib.pyplot as plt\n",
    "import seaborn as sns\n",
    "%matplotlib inline"
   ]
  },
  {
   "cell_type": "code",
   "execution_count": 74,
   "metadata": {},
   "outputs": [
    {
     "data": {
      "text/html": [
       "<div>\n",
       "<style scoped>\n",
       "    .dataframe tbody tr th:only-of-type {\n",
       "        vertical-align: middle;\n",
       "    }\n",
       "\n",
       "    .dataframe tbody tr th {\n",
       "        vertical-align: top;\n",
       "    }\n",
       "\n",
       "    .dataframe thead th {\n",
       "        text-align: right;\n",
       "    }\n",
       "</style>\n",
       "<table border=\"1\" class=\"dataframe\">\n",
       "  <thead>\n",
       "    <tr style=\"text-align: right;\">\n",
       "      <th></th>\n",
       "      <th>player</th>\n",
       "      <th>pass_comp</th>\n",
       "      <th>pass_att</th>\n",
       "      <th>pass_pct</th>\n",
       "      <th>pass_yds</th>\n",
       "      <th>yds_per_att</th>\n",
       "      <th>pass_TD</th>\n",
       "      <th>pass_INT</th>\n",
       "      <th>sacks_taken</th>\n",
       "      <th>rush_att</th>\n",
       "      <th>rush_yds</th>\n",
       "      <th>rush_TD</th>\n",
       "      <th>fumbles_lost</th>\n",
       "      <th>active</th>\n",
       "      <th>fpoints</th>\n",
       "      <th>fpoints_g</th>\n",
       "      <th>own_pct</th>\n",
       "      <th>week</th>\n",
       "      <th>team</th>\n",
       "    </tr>\n",
       "  </thead>\n",
       "  <tbody>\n",
       "    <tr>\n",
       "      <th>0</th>\n",
       "      <td>Aaron Rodgers</td>\n",
       "      <td>20.0</td>\n",
       "      <td>30.0</td>\n",
       "      <td>66.7</td>\n",
       "      <td>286.0</td>\n",
       "      <td>9.5</td>\n",
       "      <td>3.0</td>\n",
       "      <td>0.0</td>\n",
       "      <td>2.0</td>\n",
       "      <td>1.0</td>\n",
       "      <td>15.0</td>\n",
       "      <td>0.0</td>\n",
       "      <td>0.0</td>\n",
       "      <td>1.0</td>\n",
       "      <td>24.9</td>\n",
       "      <td>24.9</td>\n",
       "      <td>100.0</td>\n",
       "      <td>1</td>\n",
       "      <td>GB</td>\n",
       "    </tr>\n",
       "    <tr>\n",
       "      <th>1</th>\n",
       "      <td>Alex Smith</td>\n",
       "      <td>21.0</td>\n",
       "      <td>30.0</td>\n",
       "      <td>70.0</td>\n",
       "      <td>255.0</td>\n",
       "      <td>8.5</td>\n",
       "      <td>2.0</td>\n",
       "      <td>0.0</td>\n",
       "      <td>3.0</td>\n",
       "      <td>8.0</td>\n",
       "      <td>14.0</td>\n",
       "      <td>0.0</td>\n",
       "      <td>0.0</td>\n",
       "      <td>1.0</td>\n",
       "      <td>19.6</td>\n",
       "      <td>19.6</td>\n",
       "      <td>48.3</td>\n",
       "      <td>1</td>\n",
       "      <td>WAS</td>\n",
       "    </tr>\n",
       "    <tr>\n",
       "      <th>2</th>\n",
       "      <td>Ben Roethlisberger</td>\n",
       "      <td>23.0</td>\n",
       "      <td>41.0</td>\n",
       "      <td>56.1</td>\n",
       "      <td>335.0</td>\n",
       "      <td>8.2</td>\n",
       "      <td>1.0</td>\n",
       "      <td>3.0</td>\n",
       "      <td>4.0</td>\n",
       "      <td>3.0</td>\n",
       "      <td>16.0</td>\n",
       "      <td>0.0</td>\n",
       "      <td>2.0</td>\n",
       "      <td>1.0</td>\n",
       "      <td>9.0</td>\n",
       "      <td>9.0</td>\n",
       "      <td>93.7</td>\n",
       "      <td>1</td>\n",
       "      <td>PIT</td>\n",
       "    </tr>\n",
       "    <tr>\n",
       "      <th>3</th>\n",
       "      <td>Brett Ratliff</td>\n",
       "      <td>0.0</td>\n",
       "      <td>0.0</td>\n",
       "      <td>0.0</td>\n",
       "      <td>0.0</td>\n",
       "      <td>0.0</td>\n",
       "      <td>0.0</td>\n",
       "      <td>0.0</td>\n",
       "      <td>0.0</td>\n",
       "      <td>0.0</td>\n",
       "      <td>0.0</td>\n",
       "      <td>0.0</td>\n",
       "      <td>0.0</td>\n",
       "      <td>0.0</td>\n",
       "      <td>0.0</td>\n",
       "      <td>0.0</td>\n",
       "      <td>0.0</td>\n",
       "      <td>1</td>\n",
       "      <td>TEN</td>\n",
       "    </tr>\n",
       "    <tr>\n",
       "      <th>4</th>\n",
       "      <td>Brian Brohm</td>\n",
       "      <td>0.0</td>\n",
       "      <td>0.0</td>\n",
       "      <td>0.0</td>\n",
       "      <td>0.0</td>\n",
       "      <td>0.0</td>\n",
       "      <td>0.0</td>\n",
       "      <td>0.0</td>\n",
       "      <td>0.0</td>\n",
       "      <td>0.0</td>\n",
       "      <td>0.0</td>\n",
       "      <td>0.0</td>\n",
       "      <td>0.0</td>\n",
       "      <td>0.0</td>\n",
       "      <td>0.0</td>\n",
       "      <td>0.0</td>\n",
       "      <td>0.0</td>\n",
       "      <td>1</td>\n",
       "      <td>BUF</td>\n",
       "    </tr>\n",
       "  </tbody>\n",
       "</table>\n",
       "</div>"
      ],
      "text/plain": [
       "               player  pass_comp  pass_att  pass_pct  pass_yds  yds_per_att  \\\n",
       "0       Aaron Rodgers       20.0      30.0      66.7     286.0          9.5   \n",
       "1          Alex Smith       21.0      30.0      70.0     255.0          8.5   \n",
       "2  Ben Roethlisberger       23.0      41.0      56.1     335.0          8.2   \n",
       "3       Brett Ratliff        0.0       0.0       0.0       0.0          0.0   \n",
       "4         Brian Brohm        0.0       0.0       0.0       0.0          0.0   \n",
       "\n",
       "   pass_TD  pass_INT  sacks_taken  rush_att  rush_yds  rush_TD  fumbles_lost  \\\n",
       "0      3.0       0.0          2.0       1.0      15.0      0.0           0.0   \n",
       "1      2.0       0.0          3.0       8.0      14.0      0.0           0.0   \n",
       "2      1.0       3.0          4.0       3.0      16.0      0.0           2.0   \n",
       "3      0.0       0.0          0.0       0.0       0.0      0.0           0.0   \n",
       "4      0.0       0.0          0.0       0.0       0.0      0.0           0.0   \n",
       "\n",
       "   active  fpoints  fpoints_g  own_pct  week team  \n",
       "0     1.0     24.9       24.9    100.0     1   GB  \n",
       "1     1.0     19.6       19.6     48.3     1  WAS  \n",
       "2     1.0      9.0        9.0     93.7     1  PIT  \n",
       "3     0.0      0.0        0.0      0.0     1  TEN  \n",
       "4     0.0      0.0        0.0      0.0     1  BUF  "
      ]
     },
     "execution_count": 74,
     "metadata": {},
     "output_type": "execute_result"
    }
   ],
   "source": [
    "qbs = pd.read_csv('./data/qb_stats_2018.csv', index_col='Unnamed: 0')\n",
    "qbs.head()"
   ]
  },
  {
   "cell_type": "code",
   "execution_count": 75,
   "metadata": {},
   "outputs": [],
   "source": [
    "# Let's make sure to only look at \"active\" players aka `active == 1.0`\n",
    "qbs = qbs.loc[qbs.active==1.0, :]"
   ]
  },
  {
   "cell_type": "code",
   "execution_count": 76,
   "metadata": {},
   "outputs": [
    {
     "data": {
      "text/plain": [
       "player\n",
       "Patrick Mahomes       27.271429\n",
       "Ryan Fitzpatrick      25.100000\n",
       "Matt Ryan             24.314286\n",
       "Drew Brees            23.716667\n",
       "Cam Newton            23.466667\n",
       "Mitch Trubisky        22.700000\n",
       "Aaron Rodgers         22.150000\n",
       "Ben Roethlisberger    21.600000\n",
       "Andrew Luck           21.214286\n",
       "Philip Rivers         20.885714\n",
       "Kirk Cousins          20.614286\n",
       "Jared Goff            19.814286\n",
       "Name: fpoints, dtype: float64"
      ]
     },
     "execution_count": 76,
     "metadata": {},
     "output_type": "execute_result"
    }
   ],
   "source": [
    "qbs.groupby('player')['fpoints'].mean().sort_values(ascending=False)[:12]"
   ]
  },
  {
   "cell_type": "markdown",
   "metadata": {},
   "source": [
    "#### Our Top 12 features some familiar names from past seasons as well as newcomers:\n",
    "- Patrick Mahomes\n",
    "- Jared Goff\n",
    "- Mitch Trubisky"
   ]
  },
  {
   "cell_type": "code",
   "execution_count": 77,
   "metadata": {
    "scrolled": true
   },
   "outputs": [
    {
     "data": {
      "text/plain": [
       "['Ryan Fitzpatrick',\n",
       " 'Mitch Trubisky',\n",
       " 'Jameis Winston',\n",
       " 'Drew Brees',\n",
       " 'Matt Ryan',\n",
       " 'Blake Bortles',\n",
       " 'Marcus Mariota',\n",
       " 'Tyrod Taylor',\n",
       " 'Jared Goff',\n",
       " 'Ben Roethlisberger',\n",
       " 'Brock Osweiler',\n",
       " 'Ryan Tannehill']"
      ]
     },
     "execution_count": 77,
     "metadata": {},
     "output_type": "execute_result"
    }
   ],
   "source": [
    "# Looking at the QBs with the greatest variance\n",
    "list(qbs.groupby('player')['fpoints'].std().sort_values(ascending=False)[:12].index)"
   ]
  },
  {
   "cell_type": "code",
   "execution_count": 78,
   "metadata": {},
   "outputs": [
    {
     "data": {
      "text/plain": [
       "['Mitch Trubisky',\n",
       " 'Drew Brees',\n",
       " 'Jared Goff',\n",
       " 'Matt Ryan',\n",
       " 'Ryan Fitzpatrick',\n",
       " 'Ben Roethlisberger']"
      ]
     },
     "execution_count": 78,
     "metadata": {},
     "output_type": "execute_result"
    }
   ],
   "source": [
    "list(set(list(qbs.groupby('player')['fpoints'].mean().sort_values(ascending=False)[:12].index)).intersection(list(qbs.groupby('player')['fpoints'].std().sort_values(ascending=False)[:12].index)))\n"
   ]
  },
  {
   "cell_type": "markdown",
   "metadata": {},
   "source": [
    "So out of our Top 12 QBs, **Trubisky, Brees, Goff, Ryan, FitzMagic, and Roethlisberger** all also rank within the Top 12 of QBs with the highest amount of variance in there performance."
   ]
  },
  {
   "cell_type": "code",
   "execution_count": 79,
   "metadata": {},
   "outputs": [
    {
     "data": {
      "text/plain": [
       "['Patrick Mahomes',\n",
       " 'Andrew Luck',\n",
       " 'Cam Newton',\n",
       " 'Aaron Rodgers',\n",
       " 'Philip Rivers',\n",
       " 'Kirk Cousins']"
      ]
     },
     "execution_count": 79,
     "metadata": {},
     "output_type": "execute_result"
    }
   ],
   "source": [
    "# So if performance AND consistency is what you're looking in your QB, go after one of these Top 6 guys for ROS\n",
    "good_consistent_qbs = list(set(list(qbs.groupby('player')['fpoints'].mean().sort_values(ascending=False)[:12].index)).difference(list(qbs.groupby('player')['fpoints'].std().sort_values(ascending=False)[:12].index)))\n",
    "good_consistent_qbs"
   ]
  },
  {
   "cell_type": "code",
   "execution_count": 80,
   "metadata": {},
   "outputs": [
    {
     "data": {
      "image/png": "[encoded data removed]",
      "text/plain": [
       "<Figure size 432x288 with 1 Axes>"
      ]
     },
     "metadata": {},
     "output_type": "display_data"
    }
   ],
   "source": [
    "sns.barplot(x= qbs.groupby('player')['fpoints'].mean().sort_values(ascending=False)[good_consistent_qbs].index, y=qbs.groupby('player')['fpoints'].mean().sort_values(ascending=False)[good_consistent_qbs].values,\n",
    "           palette= 'inferno')\n",
    "plt.xticks(rotation=90, weight='bold', color= 'grey')\n",
    "plt.xlabel('Quarterback', weight='bold', color = 'grey')\n",
    "plt.yticks(weight='bold', color= 'grey')\n",
    "plt.ylabel('Points Per Game', weight='bold', color = 'grey')\n",
    "plt.title(\"Top 6 Good + Consistent QBs\", weight = 'bold');\n"
   ]
  },
  {
   "cell_type": "code",
   "execution_count": null,
   "metadata": {},
   "outputs": [],
   "source": []
  },
  {
   "cell_type": "code",
   "execution_count": null,
   "metadata": {},
   "outputs": [],
   "source": []
  },
  {
   "cell_type": "code",
   "execution_count": null,
   "metadata": {},
   "outputs": [],
   "source": []
  },
  {
   "cell_type": "code",
   "execution_count": null,
   "metadata": {},
   "outputs": [],
   "source": []
  },
  {
   "cell_type": "code",
   "execution_count": null,
   "metadata": {},
   "outputs": [],
   "source": []
  },
  {
   "cell_type": "code",
   "execution_count": null,
   "metadata": {},
   "outputs": [],
   "source": []
  }
 ],
 "metadata": {
  "kernelspec": {
   "display_name": "Python 3",
   "language": "python",
   "name": "python3"
  },
  "language_info": {
   "codemirror_mode": {
    "name": "ipython",
    "version": 3
   },
   "file_extension": ".py",
   "mimetype": "text/x-python",
   "name": "python",
   "nbconvert_exporter": "python",
   "pygments_lexer": "ipython3",
   "version": "3.6.5"
  }
 },
 "nbformat": 4,
 "nbformat_minor": 2
}
