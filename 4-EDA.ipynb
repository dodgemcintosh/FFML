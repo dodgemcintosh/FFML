{
 "cells": [
  {
   "cell_type": "markdown",
   "metadata": {},
   "source": [
    "# NFL Data EDA\n",
    "___\n",
    "The objectives of this notebook are as follows:\n",
    "- Perform initial exploratory data analysis to identify unique storylines and insights\n",
    "- Engineer new features that will be useful for the above goal in addition to modeling (our next stage)\n",
    "- Visualize the data to draw out valuable perspective and illustration"
   ]
  },
  {
   "cell_type": "markdown",
   "metadata": {},
   "source": [
    "## 2018 In Review\n",
    "We are now at the end of yet another exciting, frustrating, and fun fantasy football season. While I'm certainly looking forward to future stages in this project like weekly individual player projections, I believe that this extensive EDA for the year in review will be incredibly valuable.\n",
    "\n",
    "I hope to not only draw out who the top performers were, but also intend to dig several layers deeper to find who was the most consistent and who actually would have pushed players to a fantasy championship!"
   ]
  },
  {
   "cell_type": "code",
   "execution_count": 126,
   "metadata": {},
   "outputs": [],
   "source": [
    "import pandas as pd\n",
    "import matplotlib.pyplot as plt\n",
    "import seaborn as sns\n",
    "%matplotlib inline"
   ]
  },
  {
   "cell_type": "markdown",
   "metadata": {},
   "source": [
    "## // Quarterbacks"
   ]
  },
  {
   "cell_type": "code",
   "execution_count": 127,
   "metadata": {},
   "outputs": [
    {
     "data": {
      "text/html": [
       "<div>\n",
       "<style scoped>\n",
       "    .dataframe tbody tr th:only-of-type {\n",
       "        vertical-align: middle;\n",
       "    }\n",
       "\n",
       "    .dataframe tbody tr th {\n",
       "        vertical-align: top;\n",
       "    }\n",
       "\n",
       "    .dataframe thead th {\n",
       "        text-align: right;\n",
       "    }\n",
       "</style>\n",
       "<table border=\"1\" class=\"dataframe\">\n",
       "  <thead>\n",
       "    <tr style=\"text-align: right;\">\n",
       "      <th></th>\n",
       "      <th>player</th>\n",
       "      <th>pass_comp</th>\n",
       "      <th>pass_att</th>\n",
       "      <th>pass_pct</th>\n",
       "      <th>pass_yds</th>\n",
       "      <th>yds_per_att</th>\n",
       "      <th>pass_TD</th>\n",
       "      <th>pass_INT</th>\n",
       "      <th>sacks_taken</th>\n",
       "      <th>rush_att</th>\n",
       "      <th>rush_yds</th>\n",
       "      <th>rush_TD</th>\n",
       "      <th>fumbles_lost</th>\n",
       "      <th>active</th>\n",
       "      <th>fpoints</th>\n",
       "      <th>fpoints_g</th>\n",
       "      <th>own_pct</th>\n",
       "      <th>week</th>\n",
       "      <th>team</th>\n",
       "    </tr>\n",
       "  </thead>\n",
       "  <tbody>\n",
       "    <tr>\n",
       "      <th>0</th>\n",
       "      <td>Aaron Rodgers</td>\n",
       "      <td>20.0</td>\n",
       "      <td>30.0</td>\n",
       "      <td>66.7</td>\n",
       "      <td>286.0</td>\n",
       "      <td>9.5</td>\n",
       "      <td>3.0</td>\n",
       "      <td>0.0</td>\n",
       "      <td>2.0</td>\n",
       "      <td>1.0</td>\n",
       "      <td>15.0</td>\n",
       "      <td>0.0</td>\n",
       "      <td>0.0</td>\n",
       "      <td>1.0</td>\n",
       "      <td>24.9</td>\n",
       "      <td>24.9</td>\n",
       "      <td>99.1</td>\n",
       "      <td>1</td>\n",
       "      <td>GB</td>\n",
       "    </tr>\n",
       "    <tr>\n",
       "      <th>1</th>\n",
       "      <td>Alex Smith</td>\n",
       "      <td>21.0</td>\n",
       "      <td>30.0</td>\n",
       "      <td>70.0</td>\n",
       "      <td>255.0</td>\n",
       "      <td>8.5</td>\n",
       "      <td>2.0</td>\n",
       "      <td>0.0</td>\n",
       "      <td>3.0</td>\n",
       "      <td>8.0</td>\n",
       "      <td>14.0</td>\n",
       "      <td>0.0</td>\n",
       "      <td>0.0</td>\n",
       "      <td>1.0</td>\n",
       "      <td>19.6</td>\n",
       "      <td>19.6</td>\n",
       "      <td>9.1</td>\n",
       "      <td>1</td>\n",
       "      <td>WAS</td>\n",
       "    </tr>\n",
       "    <tr>\n",
       "      <th>2</th>\n",
       "      <td>Ben Roethlisberger</td>\n",
       "      <td>23.0</td>\n",
       "      <td>41.0</td>\n",
       "      <td>56.1</td>\n",
       "      <td>335.0</td>\n",
       "      <td>8.2</td>\n",
       "      <td>1.0</td>\n",
       "      <td>3.0</td>\n",
       "      <td>4.0</td>\n",
       "      <td>3.0</td>\n",
       "      <td>16.0</td>\n",
       "      <td>0.0</td>\n",
       "      <td>2.0</td>\n",
       "      <td>1.0</td>\n",
       "      <td>9.0</td>\n",
       "      <td>9.0</td>\n",
       "      <td>96.6</td>\n",
       "      <td>1</td>\n",
       "      <td>PIT</td>\n",
       "    </tr>\n",
       "    <tr>\n",
       "      <th>16</th>\n",
       "      <td>Drew Brees</td>\n",
       "      <td>37.0</td>\n",
       "      <td>45.0</td>\n",
       "      <td>82.2</td>\n",
       "      <td>439.0</td>\n",
       "      <td>9.8</td>\n",
       "      <td>3.0</td>\n",
       "      <td>0.0</td>\n",
       "      <td>1.0</td>\n",
       "      <td>0.0</td>\n",
       "      <td>0.0</td>\n",
       "      <td>0.0</td>\n",
       "      <td>0.0</td>\n",
       "      <td>1.0</td>\n",
       "      <td>31.6</td>\n",
       "      <td>31.6</td>\n",
       "      <td>97.1</td>\n",
       "      <td>1</td>\n",
       "      <td>NO</td>\n",
       "    </tr>\n",
       "    <tr>\n",
       "      <th>18</th>\n",
       "      <td>Eli Manning</td>\n",
       "      <td>23.0</td>\n",
       "      <td>37.0</td>\n",
       "      <td>62.2</td>\n",
       "      <td>224.0</td>\n",
       "      <td>6.1</td>\n",
       "      <td>0.0</td>\n",
       "      <td>1.0</td>\n",
       "      <td>2.0</td>\n",
       "      <td>1.0</td>\n",
       "      <td>2.0</td>\n",
       "      <td>0.0</td>\n",
       "      <td>0.0</td>\n",
       "      <td>1.0</td>\n",
       "      <td>7.2</td>\n",
       "      <td>7.2</td>\n",
       "      <td>14.1</td>\n",
       "      <td>1</td>\n",
       "      <td>NYG</td>\n",
       "    </tr>\n",
       "  </tbody>\n",
       "</table>\n",
       "</div>"
      ],
      "text/plain": [
       "                player  pass_comp  pass_att  pass_pct  pass_yds  yds_per_att  \\\n",
       "0        Aaron Rodgers       20.0      30.0      66.7     286.0          9.5   \n",
       "1           Alex Smith       21.0      30.0      70.0     255.0          8.5   \n",
       "2   Ben Roethlisberger       23.0      41.0      56.1     335.0          8.2   \n",
       "16          Drew Brees       37.0      45.0      82.2     439.0          9.8   \n",
       "18         Eli Manning       23.0      37.0      62.2     224.0          6.1   \n",
       "\n",
       "    pass_TD  pass_INT  sacks_taken  rush_att  rush_yds  rush_TD  fumbles_lost  \\\n",
       "0       3.0       0.0          2.0       1.0      15.0      0.0           0.0   \n",
       "1       2.0       0.0          3.0       8.0      14.0      0.0           0.0   \n",
       "2       1.0       3.0          4.0       3.0      16.0      0.0           2.0   \n",
       "16      3.0       0.0          1.0       0.0       0.0      0.0           0.0   \n",
       "18      0.0       1.0          2.0       1.0       2.0      0.0           0.0   \n",
       "\n",
       "    active  fpoints  fpoints_g  own_pct  week team  \n",
       "0      1.0     24.9       24.9     99.1     1   GB  \n",
       "1      1.0     19.6       19.6      9.1     1  WAS  \n",
       "2      1.0      9.0        9.0     96.6     1  PIT  \n",
       "16     1.0     31.6       31.6     97.1     1   NO  \n",
       "18     1.0      7.2        7.2     14.1     1  NYG  "
      ]
     },
     "execution_count": 127,
     "metadata": {},
     "output_type": "execute_result"
    }
   ],
   "source": [
    "qbs = pd.read_csv('./data/qb_stats_2018.csv', index_col='Unnamed: 0')\n",
    "# Let's make sure to only look at \"active\" players aka `active == 1.0`\n",
    "qbs = qbs.loc[qbs.active==1.0, :]\n",
    "# And only through Week 16 for now, the week when *most* leagues play their championship game\n",
    "qbs = qbs[qbs['week'] != 17]\n",
    "qbs.head()"
   ]
  },
  {
   "cell_type": "code",
   "execution_count": 128,
   "metadata": {},
   "outputs": [
    {
     "data": {
      "text/plain": [
       "player\n",
       "Patrick Mahomes       26.646667\n",
       "Ben Roethlisberger    21.846667\n",
       "Matt Ryan             21.713333\n",
       "Aaron Rodgers         20.766667\n",
       "Ryan Fitzpatrick      20.725000\n",
       "Deshaun Watson        20.660000\n",
       "Andrew Luck           20.300000\n",
       "Drew Brees            20.286667\n",
       "Cam Newton            20.185714\n",
       "Mitch Trubisky        19.446154\n",
       "Russell Wilson        19.400000\n",
       "Jared Goff            19.086667\n",
       "Name: fpoints, dtype: float64"
      ]
     },
     "execution_count": 128,
     "metadata": {},
     "output_type": "execute_result"
    }
   ],
   "source": [
    "qbs.groupby('player')['fpoints'].mean().sort_values(ascending=False)[:12]"
   ]
  },
  {
   "cell_type": "markdown",
   "metadata": {},
   "source": [
    "#### Our Top 12 features some familiar names from past seasons as well as newcomers:\n",
    "- Patrick Mahomes\n",
    "- Deshaun Watson\n",
    "- Mitch Trubisky"
   ]
  },
  {
   "cell_type": "code",
   "execution_count": 129,
   "metadata": {
    "scrolled": true
   },
   "outputs": [
    {
     "data": {
      "text/plain": [
       "['Ryan Fitzpatrick',\n",
       " 'Mitch Trubisky',\n",
       " 'Nick Foles',\n",
       " 'Drew Brees',\n",
       " 'Jared Goff',\n",
       " 'Tyrod Taylor',\n",
       " 'Blake Bortles',\n",
       " 'Marcus Mariota',\n",
       " 'Josh Allen',\n",
       " 'Deshaun Watson',\n",
       " 'Brock Osweiler',\n",
       " 'Chase Daniel']"
      ]
     },
     "execution_count": 129,
     "metadata": {},
     "output_type": "execute_result"
    }
   ],
   "source": [
    "# Looking at the QBs with the greatest variance\n",
    "list(qbs.groupby('player')['fpoints'].std().sort_values(ascending=False)[:12].index)"
   ]
  },
  {
   "cell_type": "code",
   "execution_count": 130,
   "metadata": {},
   "outputs": [
    {
     "data": {
      "text/plain": [
       "['Deshaun Watson',\n",
       " 'Jared Goff',\n",
       " 'Mitch Trubisky',\n",
       " 'Ryan Fitzpatrick',\n",
       " 'Drew Brees']"
      ]
     },
     "execution_count": 130,
     "metadata": {},
     "output_type": "execute_result"
    }
   ],
   "source": [
    "list(set(list(qbs.groupby('player')['fpoints'].mean().sort_values(ascending=False)[:12].index)).intersection(list(qbs.groupby('player')['fpoints'].std().sort_values(ascending=False)[:12].index)))\n"
   ]
  },
  {
   "cell_type": "markdown",
   "metadata": {},
   "source": [
    "So out of our Top 12 QBs, **Goff, Trubisky, Rodgers, Fitzpatrick, and Brees** all also rank within the Top 12 of QBs with the highest amount of variance in there performance."
   ]
  },
  {
   "cell_type": "code",
   "execution_count": 131,
   "metadata": {},
   "outputs": [
    {
     "data": {
      "text/plain": [
       "['Andrew Luck',\n",
       " 'Ben Roethlisberger',\n",
       " 'Patrick Mahomes',\n",
       " 'Russell Wilson',\n",
       " 'Matt Ryan',\n",
       " 'Cam Newton',\n",
       " 'Aaron Rodgers']"
      ]
     },
     "execution_count": 131,
     "metadata": {},
     "output_type": "execute_result"
    }
   ],
   "source": [
    "# So if performance AND consistency is what you're looking in your QB, go after one of these Top 7 guys for 2019\n",
    "good_consistent_qbs = list(set(list(qbs.groupby('player')['fpoints'].mean().sort_values(ascending=False)[:12].index)).difference(list(qbs.groupby('player')['fpoints'].std().sort_values(ascending=False)[:12].index)))\n",
    "good_consistent_qbs"
   ]
  },
  {
   "cell_type": "code",
   "execution_count": 132,
   "metadata": {},
   "outputs": [
    {
     "data": {
      "image/png": "[encoded data removed]",
      "text/plain": [
       "<Figure size 432x288 with 1 Axes>"
      ]
     },
     "metadata": {},
     "output_type": "display_data"
    }
   ],
   "source": [
    "sns.barplot(x= qbs.groupby('player')['fpoints'].mean().sort_values(ascending=False)[good_consistent_qbs].index, y=qbs.groupby('player')['fpoints'].mean().sort_values(ascending=False)[good_consistent_qbs].values,\n",
    "           palette= 'inferno')\n",
    "plt.xticks(rotation=90, weight='bold', color= 'grey')\n",
    "plt.xlabel('Quarterback', weight='bold', color = 'grey')\n",
    "plt.yticks(weight='bold', color= 'grey')\n",
    "plt.ylabel('Points Per Game', weight='bold', color = 'grey')\n",
    "plt.title(\"Top 7 Good + Consistent QBs\", weight = 'bold');\n"
   ]
  },
  {
   "cell_type": "markdown",
   "metadata": {},
   "source": [
    "> ### Instead of simply looking at the overall performances however, one thing that puts your team over the top more than others in fantasy is being consistently good instead of having a couple great games. With that in mind, let's develop some consistency ratings for our QBs.\n",
    "\n",
    "> *One thing to note, most leagues play with only one QB slot, so if your QB is not finishing as a Top-12 option each week, they are a liability. Looking at consistent Top 12 finishers is where we'll start below."
   ]
  },
  {
   "cell_type": "code",
   "execution_count": 133,
   "metadata": {},
   "outputs": [
    {
     "data": {
      "text/plain": [
       "array([1, 1, 0, 1, 0, 1, 0, 0, 0, 1, 1, 1, 0, 0, 0, 0, 0, 1, 1, 0, 0, 1,\n",
       "       1, 0, 0, 0, 0, 0, 0, 0, 0, 0, 0, 0, 1, 0, 0, 0, 0, 0])"
      ]
     },
     "execution_count": 133,
     "metadata": {},
     "output_type": "execute_result"
    }
   ],
   "source": [
    "# Displaying the necessary info for one instance aka for Week 1\n",
    "(qbs[qbs['week']==1]['fpoints'] >= qbs.loc[qbs.week == 1, :].sort_values('fpoints', ascending = False)[0:12]['fpoints'].values[-1]).map({True:1, False:0}).values"
   ]
  },
  {
   "cell_type": "code",
   "execution_count": 135,
   "metadata": {},
   "outputs": [],
   "source": [
    "top_12_key = []\n",
    "for ind_week in range(1,17):\n",
    "    top_12_key.extend((qbs[qbs['week']==ind_week]['fpoints'] >= qbs.loc[qbs.week == ind_week, :].sort_values('fpoints', ascending = False)[0:12]['fpoints'].values[-1]).map({True:1, False:0}).values)\n",
    "qbs['top_12'] = top_12_key"
   ]
  },
  {
   "cell_type": "code",
   "execution_count": 171,
   "metadata": {},
   "outputs": [
    {
     "data": {
      "image/png": "[encoded data removed]",
      "text/plain": [
       "<Figure size 576x432 with 1 Axes>"
      ]
     },
     "metadata": {},
     "output_type": "display_data"
    }
   ],
   "source": [
    "plt.figure(figsize=(8,6))\n",
    "sns.barplot(x=(qbs.groupby('player')['top_12'].mean().sort_values(ascending = False)[:13].values)*100,\\\n",
    "            y=qbs.groupby('player')['top_12'].mean().sort_values(ascending = False)[:13].index,\\\n",
    "            palette = 'YlOrRd_r')\n",
    "plt.suptitle('2018 QB1 Consistency Ratings', weight = 'bold')\n",
    "plt.xlabel('% of Season Finishing as a QB1', color = 'grey')\n",
    "plt.ylabel('Quarterback', color = 'grey')\n",
    "plt.savefig('assets/2018_QB1_Consistency_Ratings.png');"
   ]
  },
  {
   "cell_type": "code",
   "execution_count": 172,
   "metadata": {},
   "outputs": [
    {
     "data": {
      "image/png": "[encoded data removed]",
      "text/plain": [
       "<Figure size 576x432 with 1 Axes>"
      ]
     },
     "metadata": {},
     "output_type": "display_data"
    }
   ],
   "source": [
    "plt.figure(figsize=(8,6))\n",
    "sns.barplot(x=qbs.groupby('player')['fpoints'].sum().sort_values(ascending = False)[:12].values,\\\n",
    "            y=qbs.groupby('player')['fpoints'].sum().sort_values(ascending = False)[:12].index,\\\n",
    "            palette = 'mako')\n",
    "plt.suptitle('2018 QB1 Overall Scoring', weight = 'bold')\n",
    "plt.xlabel('Overall 2018 Scoring', color = 'grey')\n",
    "plt.ylabel('Quarterback', color = 'grey')\n",
    "plt.savefig('assets/2018_QB1_Overall_scoring.png');"
   ]
  },
  {
   "cell_type": "markdown",
   "metadata": {},
   "source": [
    "#### There we go! One more point of interest might be comparing where players were drafted (Average Draft Position or ADP) against where they actually finished."
   ]
  },
  {
   "cell_type": "code",
   "execution_count": 173,
   "metadata": {},
   "outputs": [],
   "source": [
    "# Make an ADP differential column showing the difference between where they were drafted and where they finished"
   ]
  },
  {
   "cell_type": "code",
   "execution_count": null,
   "metadata": {},
   "outputs": [],
   "source": []
  }
 ],
 "metadata": {
  "kernelspec": {
   "display_name": "Python 3",
   "language": "python",
   "name": "python3"
  },
  "language_info": {
   "codemirror_mode": {
    "name": "ipython",
    "version": 3
   },
   "file_extension": ".py",
   "mimetype": "text/x-python",
   "name": "python",
   "nbconvert_exporter": "python",
   "pygments_lexer": "ipython3",
   "version": "3.6.5"
  }
 },
 "nbformat": 4,
 "nbformat_minor": 2
}
