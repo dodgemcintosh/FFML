{
 "cells": [
  {
   "cell_type": "markdown",
   "metadata": {},
   "source": [
    "# // Getting Team-Level Statistics\n",
    "___\n",
    "In our [first notebook](https://github.com/dodgemcintosh/FFML/blob/master/1-Getting-NFL-Data.ipynb), we used several web scraping techniques to bring in individual player statistics from each game in the 2018 season.\n",
    "\n",
    "In this notebook, we're going to be bringing in some team-level stats from both the defensive and offensive sides of the ball that should prove to be useful features for our predictive modeling. Some of those features are:\n",
    "- Defensive formations\n",
    "- Offensive play distribution\n",
    "- Weather conditions\n",
    "- And more!"
   ]
  },
  {
   "cell_type": "markdown",
   "metadata": {},
   "source": [
    "While we're going to continue to use our good friends resources over at [FantasyPros](https://www.fantasypros.com/nfl/), we'll also be bringing these other friends to the party:\n",
    "- [The Football Database](https://www.footballdb.com/)\n",
    "- [Fantasy Sports Doctors](http://fantasysportdrs.com/)\n",
    "- [IDPGuru](http://www.idpguru.com/)\n",
    "- [FantasyGuru](https://www.fantasyguru.com/)"
   ]
  },
  {
   "cell_type": "code",
   "execution_count": 2,
   "metadata": {},
   "outputs": [],
   "source": [
    "# Let's import everything we're going to need\n",
    "\n",
    "import requests\n",
    "import matplotlib.pyplot as plt\n",
    "import seaborn as sns\n",
    "import pandas as pd\n",
    "import requests\n",
    "import re\n",
    "\n",
    "from bs4 import BeautifulSoup\n",
    "from selenium import webdriver\n",
    "from time import sleep\n",
    "%matplotlib inline"
   ]
  },
  {
   "cell_type": "markdown",
   "metadata": {},
   "source": [
    "## Going to start with defensive schemes and tendencies\n",
    "- After searching around quite a bit, I decided that the most robust resource will actually require me to input some of the data by hand; the resulting `.csv` is explored briefly below:"
   ]
  },
  {
   "cell_type": "code",
   "execution_count": 3,
   "metadata": {},
   "outputs": [
    {
     "data": {
      "text/html": [
       "<div>\n",
       "<style scoped>\n",
       "    .dataframe tbody tr th:only-of-type {\n",
       "        vertical-align: middle;\n",
       "    }\n",
       "\n",
       "    .dataframe tbody tr th {\n",
       "        vertical-align: top;\n",
       "    }\n",
       "\n",
       "    .dataframe thead th {\n",
       "        text-align: right;\n",
       "    }\n",
       "</style>\n",
       "<table border=\"1\" class=\"dataframe\">\n",
       "  <thead>\n",
       "    <tr style=\"text-align: right;\">\n",
       "      <th></th>\n",
       "      <th>team</th>\n",
       "      <th>division</th>\n",
       "      <th>head_coach</th>\n",
       "      <th>def_coordinator</th>\n",
       "      <th>base</th>\n",
       "      <th>tendency</th>\n",
       "    </tr>\n",
       "  </thead>\n",
       "  <tbody>\n",
       "    <tr>\n",
       "      <th>0</th>\n",
       "      <td>ARI</td>\n",
       "      <td>NFC West</td>\n",
       "      <td>Steve Wilks</td>\n",
       "      <td>Al Holcomb</td>\n",
       "      <td>4-3</td>\n",
       "      <td>Zone-heavy mix</td>\n",
       "    </tr>\n",
       "    <tr>\n",
       "      <th>1</th>\n",
       "      <td>ATL</td>\n",
       "      <td>NFC South</td>\n",
       "      <td>Dan Quinn</td>\n",
       "      <td>Marquand Manuel</td>\n",
       "      <td>4-3</td>\n",
       "      <td>Cover-3 (Zone)</td>\n",
       "    </tr>\n",
       "    <tr>\n",
       "      <th>2</th>\n",
       "      <td>BAL</td>\n",
       "      <td>AFC North</td>\n",
       "      <td>John Harbaugh</td>\n",
       "      <td>Don Martindale</td>\n",
       "      <td>3-4</td>\n",
       "      <td>Mix of Man/Zone</td>\n",
       "    </tr>\n",
       "    <tr>\n",
       "      <th>3</th>\n",
       "      <td>BUF</td>\n",
       "      <td>AFC East</td>\n",
       "      <td>Sean McDermott</td>\n",
       "      <td>Leslie Frazier</td>\n",
       "      <td>4-3</td>\n",
       "      <td>Zone</td>\n",
       "    </tr>\n",
       "    <tr>\n",
       "      <th>4</th>\n",
       "      <td>CAR</td>\n",
       "      <td>NFC South</td>\n",
       "      <td>Ron Rivera</td>\n",
       "      <td>Eric Washington</td>\n",
       "      <td>4-3</td>\n",
       "      <td>Cover-3 (Zone)</td>\n",
       "    </tr>\n",
       "  </tbody>\n",
       "</table>\n",
       "</div>"
      ],
      "text/plain": [
       "  team   division      head_coach  def_coordinator base         tendency\n",
       "0  ARI   NFC West     Steve Wilks       Al Holcomb  4-3   Zone-heavy mix\n",
       "1  ATL  NFC South       Dan Quinn  Marquand Manuel  4-3   Cover-3 (Zone)\n",
       "2  BAL  AFC North   John Harbaugh   Don Martindale  3-4  Mix of Man/Zone\n",
       "3  BUF   AFC East  Sean McDermott   Leslie Frazier  4-3             Zone\n",
       "4  CAR  NFC South      Ron Rivera  Eric Washington  4-3   Cover-3 (Zone)"
      ]
     },
     "execution_count": 3,
     "metadata": {},
     "output_type": "execute_result"
    }
   ],
   "source": [
    "defense_schemes = pd.read_csv('./data/nfl_defensive_schemes_2018.csv')\n",
    "defense_schemes.head()"
   ]
  },
  {
   "cell_type": "code",
   "execution_count": 4,
   "metadata": {},
   "outputs": [
    {
     "data": {
      "text/plain": [
       "AFC West     4\n",
       "NFC East     4\n",
       "NFC North    4\n",
       "NFC South    4\n",
       "NFC West     4\n",
       "AFC North    4\n",
       "AFC South    4\n",
       "AFC East     4\n",
       "Name: division, dtype: int64"
      ]
     },
     "execution_count": 4,
     "metadata": {},
     "output_type": "execute_result"
    }
   ],
   "source": [
    "# Doing one quick spot check to make sure that all divisions are represented equally\n",
    "defense_schemes.division.value_counts()"
   ]
  },
  {
   "cell_type": "markdown",
   "metadata": {},
   "source": [
    "## Coolio, now let's switch to some offensive play selection through the current point in the season\n",
    "- This will be drawn from [here](https://www.footballdb.com/stats/play-selection.html)."
   ]
  },
  {
   "cell_type": "code",
   "execution_count": 5,
   "metadata": {},
   "outputs": [],
   "source": [
    "res = requests.get('https://www.footballdb.com/stats/play-selection.html')\n",
    "soup = BeautifulSoup(res.content, 'lxml')"
   ]
  },
  {
   "cell_type": "code",
   "execution_count": 6,
   "metadata": {},
   "outputs": [
    {
     "data": {
      "text/plain": [
       "<bound method Tag.prettify of <!DOCTYPE HTML PUBLIC \"-//IETF//DTD HTML 2.0//EN\">\n",
       "<html><head>\n",
       "<title>403 Forbidden</title>\n",
       "</head><body>\n",
       "<h1>Forbidden</h1>\n",
       "<p>You don't have permission to access /stats/play-selection.html\n",
       "on this server.</p>\n",
       "<hr/>\n",
       "<address>Apache/2.2.31 (Amazon) Server at www.footballdb.com Port 80</address>\n",
       "</body></html>\n",
       ">"
      ]
     },
     "execution_count": 6,
     "metadata": {},
     "output_type": "execute_result"
    }
   ],
   "source": [
    "soup.prettify"
   ]
  },
  {
   "cell_type": "markdown",
   "metadata": {},
   "source": [
    "**Looks like we're going to have to tweak our scrape just a tad...**"
   ]
  },
  {
   "cell_type": "code",
   "execution_count": 7,
   "metadata": {},
   "outputs": [],
   "source": [
    "url = 'https://www.footballdb.com/stats/play-selection.html'\n",
    "# Setting the user agent makes us seem like a human browser \n",
    "agent = {\"User-Agent\":'Mozilla/5.0 (Macintosh; Intel Mac OS X 10_10_2) AppleWebKit/537.36 (KHTML, like Gecko) Chrome/51.0.2704.84 Safari/537.36'}\n",
    "res = requests.get(url, headers=agent)\n",
    "soup = BeautifulSoup(res.content, 'lxml')"
   ]
  },
  {
   "cell_type": "code",
   "execution_count": 8,
   "metadata": {},
   "outputs": [],
   "source": [
    "team = []\n",
    "games = []\n",
    "plays = []\n",
    "rushing = []\n",
    "rush_pct = []\n",
    "passing = []\n",
    "pass_pct = []"
   ]
  },
  {
   "cell_type": "code",
   "execution_count": 9,
   "metadata": {},
   "outputs": [],
   "source": [
    "team_offense_stats = [team, games, plays, rushing, rush_pct, passing, pass_pct]\n",
    "clean_teams = []\n",
    "for row in soup.find('table', {'class':'statistics scrollable'}).find('tbody').find_all('tr'):\n",
    "    cells = row.find_all('td')\n",
    "    for thing in cells[0].find_all('span', {'class':'visible-xs'}):\n",
    "        clean_teams.append(thing.text)\n",
    "    for index, selection in enumerate(team_offense_stats):\n",
    "        selection.append(cells[index].text.lstrip().strip())"
   ]
  },
  {
   "cell_type": "code",
   "execution_count": 10,
   "metadata": {
    "scrolled": true
   },
   "outputs": [],
   "source": [
    "offensive_plays = pd.DataFrame(columns=['team', 'games', 'plays', 'rushing', 'rush_pct', 'passing', 'pass_pct'])\n",
    "for index, column in enumerate(offensive_plays.columns):\n",
    "    offensive_plays[column] = team_offense_stats[index]\n",
    "offensive_plays.team = clean_teams"
   ]
  },
  {
   "cell_type": "code",
   "execution_count": 11,
   "metadata": {},
   "outputs": [],
   "source": [
    "for x in [col for col in offensive_plays.columns if col != 'team']:\n",
    "    offensive_plays[x] = offensive_plays[x].astype(float)"
   ]
  },
  {
   "cell_type": "code",
   "execution_count": 12,
   "metadata": {},
   "outputs": [],
   "source": [
    "team_token_dict = dict(zip(offensive_plays.team.sort_values().values, defense_schemes.team.values))\n",
    "team_token_dict['NY Giants'] = 'NYG'\n",
    "team_token_dict['NY Jets'] = 'NYJ'\n",
    "team_token_dict['New England'] = 'NE'\n",
    "team_token_dict['New Orleans'] = 'NO'\n",
    "team_token_dict['San Francisco'] = 'SF'\n",
    "team_token_dict['Seattle'] = 'SEA'\n",
    "offensive_plays.team = offensive_plays.team.map(team_token_dict)"
   ]
  },
  {
   "cell_type": "markdown",
   "metadata": {},
   "source": [
    "Who are at the extremes of the league in `pass_pct`?"
   ]
  },
  {
   "cell_type": "code",
   "execution_count": 13,
   "metadata": {},
   "outputs": [
    {
     "data": {
      "text/html": [
       "<div>\n",
       "<style scoped>\n",
       "    .dataframe tbody tr th:only-of-type {\n",
       "        vertical-align: middle;\n",
       "    }\n",
       "\n",
       "    .dataframe tbody tr th {\n",
       "        vertical-align: top;\n",
       "    }\n",
       "\n",
       "    .dataframe thead th {\n",
       "        text-align: right;\n",
       "    }\n",
       "</style>\n",
       "<table border=\"1\" class=\"dataframe\">\n",
       "  <thead>\n",
       "    <tr style=\"text-align: right;\">\n",
       "      <th></th>\n",
       "      <th>team</th>\n",
       "      <th>games</th>\n",
       "      <th>plays</th>\n",
       "      <th>rushing</th>\n",
       "      <th>rush_pct</th>\n",
       "      <th>passing</th>\n",
       "      <th>pass_pct</th>\n",
       "    </tr>\n",
       "  </thead>\n",
       "  <tbody>\n",
       "    <tr>\n",
       "      <th>14</th>\n",
       "      <td>NYG</td>\n",
       "      <td>7.0</td>\n",
       "      <td>428.0</td>\n",
       "      <td>135.0</td>\n",
       "      <td>31.5</td>\n",
       "      <td>293.0</td>\n",
       "      <td>68.5</td>\n",
       "    </tr>\n",
       "    <tr>\n",
       "      <th>31</th>\n",
       "      <td>SEA</td>\n",
       "      <td>6.0</td>\n",
       "      <td>364.0</td>\n",
       "      <td>180.0</td>\n",
       "      <td>49.5</td>\n",
       "      <td>184.0</td>\n",
       "      <td>50.5</td>\n",
       "    </tr>\n",
       "  </tbody>\n",
       "</table>\n",
       "</div>"
      ],
      "text/plain": [
       "   team  games  plays  rushing  rush_pct  passing  pass_pct\n",
       "14  NYG    7.0  428.0    135.0      31.5    293.0      68.5\n",
       "31  SEA    6.0  364.0    180.0      49.5    184.0      50.5"
      ]
     },
     "execution_count": 13,
     "metadata": {},
     "output_type": "execute_result"
    }
   ],
   "source": [
    "offensive_plays[(offensive_plays.pass_pct == offensive_plays.pass_pct.max()) | (offensive_plays.pass_pct == offensive_plays.pass_pct.min())]"
   ]
  },
  {
   "cell_type": "markdown",
   "metadata": {},
   "source": [
    "- Looks like the Giants pass the **most** while the Seahawks pass the **least** (presumably rushing the most)."
   ]
  },
  {
   "cell_type": "code",
   "execution_count": null,
   "metadata": {},
   "outputs": [],
   "source": [
    "offensive_plays.to_csv('./data/offensive')"
   ]
  }
 ],
 "metadata": {
  "kernelspec": {
   "display_name": "Python 3",
   "language": "python",
   "name": "python3"
  },
  "language_info": {
   "codemirror_mode": {
    "name": "ipython",
    "version": 3
   },
   "file_extension": ".py",
   "mimetype": "text/x-python",
   "name": "python",
   "nbconvert_exporter": "python",
   "pygments_lexer": "ipython3",
   "version": "3.6.5"
  }
 },
 "nbformat": 4,
 "nbformat_minor": 2
}
