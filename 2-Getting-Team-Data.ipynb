{
 "cells": [
  {
   "cell_type": "markdown",
   "metadata": {},
   "source": [
    "# // Getting Team-Level Statistics\n",
    "___\n",
    "In our [first notebook](https://github.com/dodgemcintosh/FFML/blob/master/1-Getting-NFL-Data.ipynb), we used several web scraping techniques to bring in individual player statistics from each game in the 2018 season.\n",
    "\n",
    "In this notebook, we're going to be bringing in some team-level stats from both the defensive and offensive sides of the ball that should prove to be useful features for our predictive modeling. Some of those features are:\n",
    "- Defensive formations\n",
    "- Offensive play distribution\n",
    "- Weather conditions\n",
    "- And more!"
   ]
  },
  {
   "cell_type": "markdown",
   "metadata": {},
   "source": [
    "While we're going to continue to use our good friends resources over at [FantasyPros](https://www.fantasypros.com/nfl/), we'll also be bringing these other friends to the party:\n",
    "- [The Football Database](https://www.footballdb.com/)\n",
    "- [Fantasy Sports Doctors](http://fantasysportdrs.com/)\n",
    "- [IDPGuru](http://www.idpguru.com/)\n",
    "- [FantasyGuru](https://www.fantasyguru.com/)"
   ]
  },
  {
   "cell_type": "code",
   "execution_count": 1,
   "metadata": {},
   "outputs": [],
   "source": [
    "# Let's import everything we're going to need\n",
    "\n",
    "import requests\n",
    "import matplotlib.pyplot as plt\n",
    "import seaborn as sns\n",
    "import pandas as pd\n",
    "import requests\n",
    "import re\n",
    "\n",
    "from bs4 import BeautifulSoup\n",
    "from selenium import webdriver\n",
    "from time import sleep\n",
    "%matplotlib inline"
   ]
  },
  {
   "cell_type": "markdown",
   "metadata": {},
   "source": [
    "## Going to start with defensive schemes and tendencies\n",
    "- After searching around quite a bit, I decided that the most robust resource will actually require me to input some of the data by hand; the resulting `.csv` is explored briefly below:"
   ]
  },
  {
   "cell_type": "code",
   "execution_count": 6,
   "metadata": {},
   "outputs": [
    {
     "data": {
      "text/html": [
       "<div>\n",
       "<style scoped>\n",
       "    .dataframe tbody tr th:only-of-type {\n",
       "        vertical-align: middle;\n",
       "    }\n",
       "\n",
       "    .dataframe tbody tr th {\n",
       "        vertical-align: top;\n",
       "    }\n",
       "\n",
       "    .dataframe thead th {\n",
       "        text-align: right;\n",
       "    }\n",
       "</style>\n",
       "<table border=\"1\" class=\"dataframe\">\n",
       "  <thead>\n",
       "    <tr style=\"text-align: right;\">\n",
       "      <th></th>\n",
       "      <th>team</th>\n",
       "      <th>division</th>\n",
       "      <th>head_coach</th>\n",
       "      <th>def_coordinator</th>\n",
       "      <th>base</th>\n",
       "      <th>tendency</th>\n",
       "    </tr>\n",
       "  </thead>\n",
       "  <tbody>\n",
       "    <tr>\n",
       "      <th>0</th>\n",
       "      <td>ARI</td>\n",
       "      <td>NFC West</td>\n",
       "      <td>Steve Wilks</td>\n",
       "      <td>Al Holcomb</td>\n",
       "      <td>4-3</td>\n",
       "      <td>Zone-heavy mix</td>\n",
       "    </tr>\n",
       "    <tr>\n",
       "      <th>1</th>\n",
       "      <td>ATL</td>\n",
       "      <td>NFC South</td>\n",
       "      <td>Dan Quinn</td>\n",
       "      <td>Marquand Manuel</td>\n",
       "      <td>4-3</td>\n",
       "      <td>Cover-3 (Zone)</td>\n",
       "    </tr>\n",
       "    <tr>\n",
       "      <th>2</th>\n",
       "      <td>BAL</td>\n",
       "      <td>AFC North</td>\n",
       "      <td>John Harbaugh</td>\n",
       "      <td>Don Martindale</td>\n",
       "      <td>3-4</td>\n",
       "      <td>Mix of Man/Zone</td>\n",
       "    </tr>\n",
       "    <tr>\n",
       "      <th>3</th>\n",
       "      <td>BUF</td>\n",
       "      <td>AFC East</td>\n",
       "      <td>Sean McDermott</td>\n",
       "      <td>Leslie Frazier</td>\n",
       "      <td>4-3</td>\n",
       "      <td>Zone</td>\n",
       "    </tr>\n",
       "    <tr>\n",
       "      <th>4</th>\n",
       "      <td>CAR</td>\n",
       "      <td>NFC South</td>\n",
       "      <td>Ron Rivera</td>\n",
       "      <td>Eric Washington</td>\n",
       "      <td>4-3</td>\n",
       "      <td>Cover-3 (Zone)</td>\n",
       "    </tr>\n",
       "  </tbody>\n",
       "</table>\n",
       "</div>"
      ],
      "text/plain": [
       "  team   division      head_coach  def_coordinator base         tendency\n",
       "0  ARI   NFC West     Steve Wilks       Al Holcomb  4-3   Zone-heavy mix\n",
       "1  ATL  NFC South       Dan Quinn  Marquand Manuel  4-3   Cover-3 (Zone)\n",
       "2  BAL  AFC North   John Harbaugh   Don Martindale  3-4  Mix of Man/Zone\n",
       "3  BUF   AFC East  Sean McDermott   Leslie Frazier  4-3             Zone\n",
       "4  CAR  NFC South      Ron Rivera  Eric Washington  4-3   Cover-3 (Zone)"
      ]
     },
     "execution_count": 6,
     "metadata": {},
     "output_type": "execute_result"
    }
   ],
   "source": [
    "df_schemes = pd.read_csv('./data/nfl_defensive_schemes_2018.csv')\n",
    "df_schemes.head()"
   ]
  },
  {
   "cell_type": "code",
   "execution_count": 8,
   "metadata": {},
   "outputs": [
    {
     "data": {
      "text/plain": [
       "AFC South    4\n",
       "AFC West     4\n",
       "NFC North    4\n",
       "NFC East     4\n",
       "AFC East     4\n",
       "AFC North    4\n",
       "NFC West     4\n",
       "NFC South    4\n",
       "Name: division, dtype: int64"
      ]
     },
     "execution_count": 8,
     "metadata": {},
     "output_type": "execute_result"
    }
   ],
   "source": [
    "# Doing one quick spot check to make sure that all divisions are represented equally\n",
    "df_schemes.division.value_counts()"
   ]
  }
 ],
 "metadata": {
  "kernelspec": {
   "display_name": "Python 3",
   "language": "python",
   "name": "python3"
  },
  "language_info": {
   "codemirror_mode": {
    "name": "ipython",
    "version": 3
   },
   "file_extension": ".py",
   "mimetype": "text/x-python",
   "name": "python",
   "nbconvert_exporter": "python",
   "pygments_lexer": "ipython3",
   "version": "3.6.5"
  }
 },
 "nbformat": 4,
 "nbformat_minor": 2
}
